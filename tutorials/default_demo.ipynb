{
 "cells": [
  {
   "cell_type": "markdown",
   "id": "a8ebeab6",
   "metadata": {},
   "source": [
    "# Proof of Concept: \n",
    "## Default Categories in Three Different Courses\n",
    "\n",
    "This notebook demonstrates the full pipeline implemented in the package, illustrating a potential use case in the absence of real data.\n",
    "In this case, it simulates a researcher who is investigating 30 students' usage of chatbots in three different settings: an English, Biology, and Spanish course. \n",
    "The framework used to do so is from XXX, and the researcher is looking into the intentions behind the interactions of both the students and the chatbot.\n",
    "\n",
    "The steps to do so are as follows:\n",
    "1. A synthetic framework (i.e., an annotated dataset) is first generated.\n",
    "2. Next, an interaction is simulated between two agents representing a 'student' and a 'tutor'.\n",
    "3. A BERT classifier is then trained on the synthesized data. \n",
    "4. The trained classifier is then applied to the simulated conversation. In this case, both agents' outputs are analyzed.\n",
    "5. Finally, the classified data is presented in a descriptive format, showcasing the researchers results. "
   ]
  },
  {
   "cell_type": "markdown",
   "id": "34721d2b",
   "metadata": {},
   "source": []
  }
 ],
 "metadata": {
  "language_info": {
   "name": "python"
  }
 },
 "nbformat": 4,
 "nbformat_minor": 5
}
