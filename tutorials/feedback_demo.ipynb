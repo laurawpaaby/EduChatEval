{
 "cells": [
  {
   "cell_type": "markdown",
   "id": "2b04901c",
   "metadata": {},
   "source": [
    "# Tutorial to Investigate Chatbot Feedback Types\n",
    "\n",
    "This notebook demonstrates the full pipeline implemented in the *EduChatEval* package, illustrating a potential use case in the absence of real data.\n",
    "In this case, it simulates a researcher who is investigating the types and occurences of feedback a given chatbot is providing to 25 students each having on of 5 different tasks. The classification scheme is adapted from the paper by Hansen et al., (2025): http://dx.doi.org/10.7146/lom.v17i31.148831\n",
    "\n",
    "The steps to do so are as follows:\n",
    "1. A synthetic framework (i.e., an annotated dataset) is first generated.\n",
    "2. Next, interactions are simulated between two agents representing a 'student' and a 'tutor'.\n",
    "3. A BERT classifier is then trained on the synthesized data. \n",
    "4. The trained classifier is then applied to the simulated conversation. In this case, only the tutor agent's outputs are analyzed.\n",
    "5. Finally, the classified data is presented in a descriptive format, showcasing the researchers results. "
   ]
  },
  {
   "cell_type": "code",
   "execution_count": 1,
   "id": "0b45a29b",
   "metadata": {},
   "outputs": [],
   "source": [
    "# package installation \n",
    "!pip install -q --upgrade pip\n",
    "!pip install -q educhateval\n",
    "!pip install -q pathlib\n",
    "!pip install -q pandas"
   ]
  },
  {
   "cell_type": "code",
   "execution_count": 9,
   "id": "956b00c6",
   "metadata": {},
   "outputs": [],
   "source": [
    "# import libraries\n",
    "from pathlib import Path\n",
    "from educhateval import (FrameworkGenerator, \n",
    "                        DialogueSimulator,\n",
    "                        PredictLabels,\n",
    "                        Visualizer,)\n",
    "\n",
    "import pandas as pd"
   ]
  },
  {
   "cell_type": "code",
   "execution_count": null,
   "id": "a84a1e2e",
   "metadata": {},
   "outputs": [
    {
     "name": "stdout",
     "output_type": "stream",
     "text": [
      "Generating for category: Advice\n",
      "Skipping invalid output for category 'Advice': 'choices'\n",
      "Skipping invalid output for category 'Advice': 'choices'\n",
      "Skipping invalid output for category 'Advice': 'choices'\n",
      "Generating for category: Content\n",
      "Skipping invalid output for category 'Content': 'choices'\n",
      "Generating for category: Encouragement\n",
      "Skipping invalid output for category 'Encouragement': 'choices'\n",
      "Skipping invalid output for category 'Encouragement': 'choices'\n",
      "Skipping invalid output for category 'Encouragement': 'choices'\n",
      "Skipping invalid output for category 'Encouragement': 'choices'\n",
      "Skipping invalid output for category 'Encouragement': 'choices'\n",
      "Skipping invalid output for category 'Encouragement': 'choices'\n",
      "Generating for category: Explanation\n",
      "Skipping invalid output for category 'Explanation': 'choices'\n",
      "Skipping invalid output for category 'Explanation': 'choices'\n",
      "Skipping invalid output for category 'Explanation': 'choices'\n",
      "Skipping invalid output for category 'Explanation': 'choices'\n",
      "Skipping invalid output for category 'Explanation': 'choices'\n",
      "Skipping invalid output for category 'Explanation': 'choices'\n",
      "Generating for category: Posed Question\n",
      "Skipping invalid output for category 'Posed Question': 'choices'\n",
      "Skipping invalid output for category 'Posed Question': 'choices'\n",
      "Skipping invalid output for category 'Posed Question': 'choices'\n",
      "Skipping invalid output for category 'Posed Question': 'choices'\n",
      "Generating for category: Small Talk\n",
      "Skipping invalid output for category 'Small Talk': 'choices'\n",
      "Skipping invalid output for category 'Small Talk': 'choices'\n",
      "Skipping invalid output for category 'Small Talk': 'choices'\n",
      "Generating for category: Specificity\n",
      "Skipping invalid output for category 'Specificity': 'choices'\n",
      "Skipping invalid output for category 'Specificity': 'choices'\n",
      "Generating for category: Style\n",
      "Number of duplicates removed: 51\n",
      "→ Saved CSV: ../data/generated_tuning_data/synth_feedback_300samples.csv\n"
     ]
    }
   ],
   "source": [
    "# import generator with the model name and API URL from the local server activated hosted LM studio \n",
    "generator = FrameworkGenerator(generator = FrameworkGenerator(\n",
    "    model_name=\"llama-3.2-3b-instruct\", # the model already downloaded and loaded via LM Studio\n",
    "    api_url=\"http://localhost:1234/v1/completions\" # the address of locally hosted LM Studio API endpoint that handles generation requests. Consist of server host, port, and path.\n",
    "    )\n",
    "\n",
    "\n",
    "# generate the framework for the feedback task given the prompt template\n",
    "df_feedback = generator.generate_framework(\n",
    "    prompt_path=\"../data/templates/prompt_feedback.py\", \n",
    "    num_samples=300,\n",
    "    csv_out=\"../data/generated_tuning_data/synth_feedback_300samples.csv\",\n",
    ")"
   ]
  },
  {
   "cell_type": "markdown",
   "id": "02649bc0",
   "metadata": {},
   "source": [
    "#### Quality Filtering\n",
    "this step is not included in the POC in the paper, but is integrated here for users to run"
   ]
  },
  {
   "cell_type": "code",
   "execution_count": 28,
   "id": "82eac827",
   "metadata": {},
   "outputs": [
    {
     "data": {
      "text/plain": [
       "array(['Advice', 'Content', 'Encouragement', 'Explanation',\n",
       "       'Posed Question', 'Small Talk', 'Specificity', 'Style'],\n",
       "      dtype=object)"
      ]
     },
     "execution_count": 28,
     "metadata": {},
     "output_type": "execute_result"
    }
   ],
   "source": [
    "# loading tiny manually labeled feedback data \n",
    "train_data=pd.read_csv(\"../data/templates/tiny_labeled_feedback.csv\")\n",
    "train_data['category'] = train_data['label'] # renaming to match taxonomy\n",
    "\n",
    "train_data['category'].unique() "
   ]
  },
  {
   "cell_type": "code",
   "execution_count": null,
   "id": "0ac94618",
   "metadata": {},
   "outputs": [
    {
     "name": "stdout",
     "output_type": "stream",
     "text": [
      "Max token: 42 Average token: 16.34375\n"
     ]
    },
    {
     "data": {
      "application/vnd.jupyter.widget-view+json": {
       "model_id": "4e607f8788d943ee881679ef84fedb20",
       "version_major": 2,
       "version_minor": 0
      },
      "text/plain": [
       "Map:   0%|          | 0/32 [00:00<?, ? examples/s]"
      ]
     },
     "metadata": {},
     "output_type": "display_data"
    },
    {
     "data": {
      "application/vnd.jupyter.widget-view+json": {
       "model_id": "1eb663c5de2b4267b509d738b7f5abac",
       "version_major": 2,
       "version_minor": 0
      },
      "text/plain": [
       "Map:   0%|          | 0/9 [00:00<?, ? examples/s]"
      ]
     },
     "metadata": {},
     "output_type": "display_data"
    },
    {
     "name": "stderr",
     "output_type": "stream",
     "text": [
      "Some weights of BertForSequenceClassification were not initialized from the model checkpoint at google-bert/bert-base-uncased and are newly initialized: ['classifier.bias', 'classifier.weight']\n",
      "You should probably TRAIN this model on a down-stream task to be able to use it for predictions and inference.\n"
     ]
    },
    {
     "data": {
      "text/html": [
       "\n",
       "    <div>\n",
       "      \n",
       "      <progress value='16' max='16' style='width:300px; height:20px; vertical-align: middle;'></progress>\n",
       "      [16/16 00:07, Epoch 4/4]\n",
       "    </div>\n",
       "    <table border=\"1\" class=\"dataframe\">\n",
       "  <thead>\n",
       " <tr style=\"text-align: left;\">\n",
       "      <th>Epoch</th>\n",
       "      <th>Training Loss</th>\n",
       "      <th>Validation Loss</th>\n",
       "      <th>Accuracy</th>\n",
       "      <th>Precision</th>\n",
       "      <th>Recall</th>\n",
       "      <th>F1</th>\n",
       "    </tr>\n",
       "  </thead>\n",
       "  <tbody>\n",
       "    <tr>\n",
       "      <td>1</td>\n",
       "      <td>No log</td>\n",
       "      <td>2.189125</td>\n",
       "      <td>0.000000</td>\n",
       "      <td>0.000000</td>\n",
       "      <td>0.000000</td>\n",
       "      <td>0.000000</td>\n",
       "    </tr>\n",
       "    <tr>\n",
       "      <td>2</td>\n",
       "      <td>No log</td>\n",
       "      <td>2.037117</td>\n",
       "      <td>0.222222</td>\n",
       "      <td>0.111111</td>\n",
       "      <td>0.222222</td>\n",
       "      <td>0.148148</td>\n",
       "    </tr>\n",
       "    <tr>\n",
       "      <td>3</td>\n",
       "      <td>No log</td>\n",
       "      <td>1.971436</td>\n",
       "      <td>0.222222</td>\n",
       "      <td>0.111111</td>\n",
       "      <td>0.222222</td>\n",
       "      <td>0.148148</td>\n",
       "    </tr>\n",
       "    <tr>\n",
       "      <td>4</td>\n",
       "      <td>No log</td>\n",
       "      <td>1.978781</td>\n",
       "      <td>0.222222</td>\n",
       "      <td>0.092593</td>\n",
       "      <td>0.222222</td>\n",
       "      <td>0.129630</td>\n",
       "    </tr>\n",
       "  </tbody>\n",
       "</table><p>"
      ],
      "text/plain": [
       "<IPython.core.display.HTML object>"
      ]
     },
     "metadata": {},
     "output_type": "display_data"
    },
    {
     "data": {
      "text/html": [
       "\n",
       "    <div>\n",
       "      \n",
       "      <progress value='2' max='2' style='width:300px; height:20px; vertical-align: middle;'></progress>\n",
       "      [2/2 00:00]\n",
       "    </div>\n",
       "    "
      ],
      "text/plain": [
       "<IPython.core.display.HTML object>"
      ]
     },
     "metadata": {},
     "output_type": "display_data"
    },
    {
     "data": {
      "application/vnd.jupyter.widget-view+json": {
       "model_id": "bec223f8f58946f3b55cb058c3d631ee",
       "version_major": 2,
       "version_minor": 0
      },
      "text/plain": [
       "Map:   0%|          | 0/2322 [00:00<?, ? examples/s]"
      ]
     },
     "metadata": {},
     "output_type": "display_data"
    },
    {
     "data": {
      "text/html": [],
      "text/plain": [
       "<IPython.core.display.HTML object>"
      ]
     },
     "metadata": {},
     "output_type": "display_data"
    },
    {
     "name": "stdout",
     "output_type": "stream",
     "text": [
      "Filtered data saved to ../data/generated_tuning_data/final_feedback_300.csv\n"
     ]
    }
   ],
   "source": [
    "# filtering the generated data with a classifier\n",
    "filtered_df_feedback = generator.filter_with_classifier(\n",
    "    train_data=train_data,\n",
    "    synth_data=df_feedback,\n",
    "    classifier_model_name=\"google-bert/bert-base-uncased\",\n",
    "    filtered_save_path=\"../data/generated_tuning_data/final_feedback_300.csv\"\n",
    "\n",
    ")"
   ]
  },
  {
   "cell_type": "markdown",
   "id": "baab2f25",
   "metadata": {},
   "source": [
    "### Dialogue Generation\n",
    "First the seeds are printed for transparency then looped over"
   ]
  },
  {
   "cell_type": "code",
   "execution_count": 44,
   "id": "58ba625e",
   "metadata": {},
   "outputs": [
    {
     "name": "stdout",
     "output_type": "stream",
     "text": [
      "\n",
      "Course: evaluative_feedback\n",
      "Number of seeds: 5\n",
      "Seed messages:\n",
      "Here’s a paragraph I wrote in English. Could you give me feedback and help me rewrite it together if needed?\n",
      "I wrote a short essay on the Cold War. I’d love your feedback, and I’ll ask more about anything you point out.\n",
      "I solved a math problem and explained my reasoning—can you review it? I’d like to revise it if there’s anything unclear.\n",
      "I created a concept map of the human digestive system. Could you tell me what works well and what could be clearer? I’d like to improve it.\n",
      "Here’s my summary of a chapter on biodiversity. Please critique it and help me build a stronger version based on your suggestions.\n"
     ]
    }
   ],
   "source": [
    "import yaml\n",
    "# Load YAML file with seed messages\n",
    "with open(\"../data/templates/student_seed_overall.yaml\", \"r\") as f:\n",
    "    seed_messages = yaml.safe_load(f)\n",
    "\n",
    "# Displaying examples of seed messages for evaluation only\n",
    "for course_name, course_content in seed_messages.items():\n",
    "    if course_name != \"evaluative_feedback\":\n",
    "        continue  # skip all other courses\n",
    "\n",
    "    seeds = course_content.get(\"seeds\", [])\n",
    "    print(f\"\\nCourse: {course_name}\")\n",
    "    print(f\"Number of seeds: {len(seeds)}\")\n",
    "    print(\"Seed messages:\")\n",
    "    for seed in seeds:\n",
    "        print(seed)"
   ]
  },
  {
   "cell_type": "code",
   "execution_count": 10,
   "id": "0f1a3ba5",
   "metadata": {},
   "outputs": [
    {
     "data": {
      "application/vnd.jupyter.widget-view+json": {
       "model_id": "11b59b3ffb8e4f6c803763b3f68da975",
       "version_major": 2,
       "version_minor": 0
      },
      "text/plain": [
       "Fetching 9 files:   0%|          | 0/9 [00:00<?, ?it/s]"
      ]
     },
     "metadata": {},
     "output_type": "display_data"
    }
   ],
   "source": [
    "# initiate simulator choosing the backend and model id (either huggingface or local, in this case local)\n",
    "simulator = DialogueSimulator(backend=\"mlx\", model_id=\"mlx-community/Qwen2.5-7B-Instruct-1M-4bit\")"
   ]
  },
  {
   "cell_type": "code",
   "execution_count": null,
   "id": "4d6d1ed2",
   "metadata": {},
   "outputs": [],
   "source": [
    "%%capture  \n",
    "\n",
    "# Simulate dialogues for the evaluative feedback task with 5 students per seed and 6 turns per dialogue\n",
    "all_feedback_dialogues = []\n",
    "\n",
    "course_name = \"evaluative_feedback\"\n",
    "course_content = seed_messages.get(course_name, {})\n",
    "seeds = course_content.get(\"seeds\", [])\n",
    "\n",
    "for seed_index, seed_message in enumerate(seeds):\n",
    "    for student_index in range(5):  # 5 students per seed\n",
    "        df_single = simulator.simulate_dialogue(\n",
    "            mode=\"evaluative_feedback\",\n",
    "            turns=6,\n",
    "            seed_message_input=seed_message,\n",
    "            custom_prompt_file=\"../data/templates/system_prompts.yaml\"\n",
    "        )\n",
    "\n",
    "        df_single[\"student_id\"] = f\"{course_name}_seed{seed_index+1}_student{student_index+1}\"\n",
    "        df_single[\"course\"] = course_name\n",
    "        all_feedback_dialogues.append(df_single)\n",
    "\n",
    "# Combine all into a single dataframe\n",
    "simulated_feedback_df = pd.concat(all_feedback_dialogues, ignore_index=True)\n"
   ]
  },
  {
   "cell_type": "code",
   "execution_count": 58,
   "id": "7bb2628f",
   "metadata": {},
   "outputs": [
    {
     "data": {
      "text/html": [
       "<div>\n",
       "<style scoped>\n",
       "    .dataframe tbody tr th:only-of-type {\n",
       "        vertical-align: middle;\n",
       "    }\n",
       "\n",
       "    .dataframe tbody tr th {\n",
       "        vertical-align: top;\n",
       "    }\n",
       "\n",
       "    .dataframe thead th {\n",
       "        text-align: right;\n",
       "    }\n",
       "</style>\n",
       "<table border=\"1\" class=\"dataframe\">\n",
       "  <thead>\n",
       "    <tr style=\"text-align: right;\">\n",
       "      <th></th>\n",
       "      <th>turn</th>\n",
       "      <th>student_msg</th>\n",
       "      <th>tutor_msg</th>\n",
       "      <th>student_id</th>\n",
       "      <th>course</th>\n",
       "    </tr>\n",
       "  </thead>\n",
       "  <tbody>\n",
       "    <tr>\n",
       "      <th>0</th>\n",
       "      <td>1</td>\n",
       "      <td>Here’s a paragraph I wrote in English. Could y...</td>\n",
       "      <td>Sure, please go ahead and share your paragraph...</td>\n",
       "      <td>evaluative_feedback_seed1_student1</td>\n",
       "      <td>evaluative_feedback</td>\n",
       "    </tr>\n",
       "    <tr>\n",
       "      <th>1</th>\n",
       "      <td>2</td>\n",
       "      <td>Here is the paragraph I wrote:\\n\\n\"The city is...</td>\n",
       "      <td>Your paragraph effectively captures the hustle...</td>\n",
       "      <td>evaluative_feedback_seed1_student1</td>\n",
       "      <td>evaluative_feedback</td>\n",
       "    </tr>\n",
       "    <tr>\n",
       "      <th>2</th>\n",
       "      <td>3</td>\n",
       "      <td>Thank you for the suggestion! I like the added...</td>\n",
       "      <td>Great job refining your paragraph! Here are so...</td>\n",
       "      <td>evaluative_feedback_seed1_student1</td>\n",
       "      <td>evaluative_feedback</td>\n",
       "    </tr>\n",
       "    <tr>\n",
       "      <th>3</th>\n",
       "      <td>4</td>\n",
       "      <td>Thank you for the feedback! I will start the e...</td>\n",
       "      <td>Great job, you've improved the flow! Here’s a ...</td>\n",
       "      <td>evaluative_feedback_seed1_student1</td>\n",
       "      <td>evaluative_feedback</td>\n",
       "    </tr>\n",
       "    <tr>\n",
       "      <th>4</th>\n",
       "      <td>5</td>\n",
       "      <td>Thank you for the additional tweak! I think it...</td>\n",
       "      <td>Ending with \"vibrant\" reinforces the idea, so ...</td>\n",
       "      <td>evaluative_feedback_seed1_student1</td>\n",
       "      <td>evaluative_feedback</td>\n",
       "    </tr>\n",
       "    <tr>\n",
       "      <th>...</th>\n",
       "      <td>...</td>\n",
       "      <td>...</td>\n",
       "      <td>...</td>\n",
       "      <td>...</td>\n",
       "      <td>...</td>\n",
       "    </tr>\n",
       "    <tr>\n",
       "      <th>145</th>\n",
       "      <td>2</td>\n",
       "      <td>Got it! Here's my initial summary of the chapt...</td>\n",
       "      <td>Great start! Here are some suggestions to enha...</td>\n",
       "      <td>evaluative_feedback_seed5_student5</td>\n",
       "      <td>evaluative_feedback</td>\n",
       "    </tr>\n",
       "    <tr>\n",
       "      <th>146</th>\n",
       "      <td>3</td>\n",
       "      <td>Thank you for the detailed feedback! I appreci...</td>\n",
       "      <td>Absolutely! Here are some examples of specific...</td>\n",
       "      <td>evaluative_feedback_seed5_student5</td>\n",
       "      <td>evaluative_feedback</td>\n",
       "    </tr>\n",
       "    <tr>\n",
       "      <th>147</th>\n",
       "      <td>4</td>\n",
       "      <td>Thank you for the additional examples! I think...</td>\n",
       "      <td>Great to hear you found the examples helpful! ...</td>\n",
       "      <td>evaluative_feedback_seed5_student5</td>\n",
       "      <td>evaluative_feedback</td>\n",
       "    </tr>\n",
       "    <tr>\n",
       "      <th>148</th>\n",
       "      <td>5</td>\n",
       "      <td>That's a great suggestion! Including a specifi...</td>\n",
       "      <td>Your addition about honeybee populations is ex...</td>\n",
       "      <td>evaluative_feedback_seed5_student5</td>\n",
       "      <td>evaluative_feedback</td>\n",
       "    </tr>\n",
       "    <tr>\n",
       "      <th>149</th>\n",
       "      <td>6</td>\n",
       "      <td>I really like that addition! I think it streng...</td>\n",
       "      <td>Perfect! Here's a concise way to end:\\n\\n\"Prot...</td>\n",
       "      <td>evaluative_feedback_seed5_student5</td>\n",
       "      <td>evaluative_feedback</td>\n",
       "    </tr>\n",
       "  </tbody>\n",
       "</table>\n",
       "<p>150 rows × 5 columns</p>\n",
       "</div>"
      ],
      "text/plain": [
       "     turn                                        student_msg  \\\n",
       "0       1  Here’s a paragraph I wrote in English. Could y...   \n",
       "1       2  Here is the paragraph I wrote:\\n\\n\"The city is...   \n",
       "2       3  Thank you for the suggestion! I like the added...   \n",
       "3       4  Thank you for the feedback! I will start the e...   \n",
       "4       5  Thank you for the additional tweak! I think it...   \n",
       "..    ...                                                ...   \n",
       "145     2  Got it! Here's my initial summary of the chapt...   \n",
       "146     3  Thank you for the detailed feedback! I appreci...   \n",
       "147     4  Thank you for the additional examples! I think...   \n",
       "148     5  That's a great suggestion! Including a specifi...   \n",
       "149     6  I really like that addition! I think it streng...   \n",
       "\n",
       "                                             tutor_msg  \\\n",
       "0    Sure, please go ahead and share your paragraph...   \n",
       "1    Your paragraph effectively captures the hustle...   \n",
       "2    Great job refining your paragraph! Here are so...   \n",
       "3    Great job, you've improved the flow! Here’s a ...   \n",
       "4    Ending with \"vibrant\" reinforces the idea, so ...   \n",
       "..                                                 ...   \n",
       "145  Great start! Here are some suggestions to enha...   \n",
       "146  Absolutely! Here are some examples of specific...   \n",
       "147  Great to hear you found the examples helpful! ...   \n",
       "148  Your addition about honeybee populations is ex...   \n",
       "149  Perfect! Here's a concise way to end:\\n\\n\"Prot...   \n",
       "\n",
       "                             student_id               course  \n",
       "0    evaluative_feedback_seed1_student1  evaluative_feedback  \n",
       "1    evaluative_feedback_seed1_student1  evaluative_feedback  \n",
       "2    evaluative_feedback_seed1_student1  evaluative_feedback  \n",
       "3    evaluative_feedback_seed1_student1  evaluative_feedback  \n",
       "4    evaluative_feedback_seed1_student1  evaluative_feedback  \n",
       "..                                  ...                  ...  \n",
       "145  evaluative_feedback_seed5_student5  evaluative_feedback  \n",
       "146  evaluative_feedback_seed5_student5  evaluative_feedback  \n",
       "147  evaluative_feedback_seed5_student5  evaluative_feedback  \n",
       "148  evaluative_feedback_seed5_student5  evaluative_feedback  \n",
       "149  evaluative_feedback_seed5_student5  evaluative_feedback  \n",
       "\n",
       "[150 rows x 5 columns]"
      ]
     },
     "execution_count": 58,
     "metadata": {},
     "output_type": "execute_result"
    }
   ],
   "source": [
    "simulated_feedback_df"
   ]
  },
  {
   "cell_type": "markdown",
   "id": "f24181f4",
   "metadata": {},
   "source": [
    "### Classification and Prediction\n",
    "Training a classifier on the synthesized framework to predict the categories of the student messages in the dialogue data"
   ]
  },
  {
   "cell_type": "code",
   "execution_count": 59,
   "id": "a12dd4cc",
   "metadata": {},
   "outputs": [],
   "source": [
    "predictor = PredictLabels(model_name=\"distilbert-base-uncased\")"
   ]
  },
  {
   "cell_type": "code",
   "execution_count": 62,
   "id": "66fc611e",
   "metadata": {},
   "outputs": [
    {
     "name": "stdout",
     "output_type": "stream",
     "text": [
      "Max token: 53 Average token: 32.37210554658051\n"
     ]
    },
    {
     "data": {
      "application/vnd.jupyter.widget-view+json": {
       "model_id": "1b1f788336a948cbba3bb9d90f45880a",
       "version_major": 2,
       "version_minor": 0
      },
      "text/plain": [
       "Map:   0%|          | 0/1857 [00:00<?, ? examples/s]"
      ]
     },
     "metadata": {},
     "output_type": "display_data"
    },
    {
     "data": {
      "application/vnd.jupyter.widget-view+json": {
       "model_id": "7d0bfb8f871e4a809778388dc83c507f",
       "version_major": 2,
       "version_minor": 0
      },
      "text/plain": [
       "Map:   0%|          | 0/465 [00:00<?, ? examples/s]"
      ]
     },
     "metadata": {},
     "output_type": "display_data"
    },
    {
     "name": "stderr",
     "output_type": "stream",
     "text": [
      "Some weights of DistilBertForSequenceClassification were not initialized from the model checkpoint at distilbert-base-uncased and are newly initialized: ['classifier.bias', 'classifier.weight', 'pre_classifier.bias', 'pre_classifier.weight']\n",
      "You should probably TRAIN this model on a down-stream task to be able to use it for predictions and inference.\n"
     ]
    },
    {
     "data": {
      "text/html": [
       "\n",
       "    <div>\n",
       "      \n",
       "      <progress value='932' max='932' style='width:300px; height:20px; vertical-align: middle;'></progress>\n",
       "      [932/932 01:35, Epoch 4/4]\n",
       "    </div>\n",
       "    <table border=\"1\" class=\"dataframe\">\n",
       "  <thead>\n",
       " <tr style=\"text-align: left;\">\n",
       "      <th>Epoch</th>\n",
       "      <th>Training Loss</th>\n",
       "      <th>Validation Loss</th>\n",
       "      <th>Accuracy</th>\n",
       "      <th>Precision</th>\n",
       "      <th>Recall</th>\n",
       "      <th>F1</th>\n",
       "    </tr>\n",
       "  </thead>\n",
       "  <tbody>\n",
       "    <tr>\n",
       "      <td>1</td>\n",
       "      <td>No log</td>\n",
       "      <td>0.155485</td>\n",
       "      <td>0.952688</td>\n",
       "      <td>0.955318</td>\n",
       "      <td>0.952688</td>\n",
       "      <td>0.952795</td>\n",
       "    </tr>\n",
       "    <tr>\n",
       "      <td>2</td>\n",
       "      <td>No log</td>\n",
       "      <td>0.100520</td>\n",
       "      <td>0.976344</td>\n",
       "      <td>0.977100</td>\n",
       "      <td>0.976344</td>\n",
       "      <td>0.976363</td>\n",
       "    </tr>\n",
       "    <tr>\n",
       "      <td>3</td>\n",
       "      <td>0.281400</td>\n",
       "      <td>0.081710</td>\n",
       "      <td>0.978495</td>\n",
       "      <td>0.978704</td>\n",
       "      <td>0.978495</td>\n",
       "      <td>0.978457</td>\n",
       "    </tr>\n",
       "    <tr>\n",
       "      <td>4</td>\n",
       "      <td>0.281400</td>\n",
       "      <td>0.083868</td>\n",
       "      <td>0.980645</td>\n",
       "      <td>0.981180</td>\n",
       "      <td>0.980645</td>\n",
       "      <td>0.980635</td>\n",
       "    </tr>\n",
       "  </tbody>\n",
       "</table><p>"
      ],
      "text/plain": [
       "<IPython.core.display.HTML object>"
      ]
     },
     "metadata": {},
     "output_type": "display_data"
    },
    {
     "name": "stdout",
     "output_type": "stream",
     "text": [
      "Predicted data saved to ../data/final_outputs/feedback_annotated_final.csv\n"
     ]
    }
   ],
   "source": [
    "predicted_feedback= predictor.run_pipeline(\n",
    "    train_data=df_feedback, \n",
    "    new_data=simulated_feedback_df,\n",
    "    text_column=\"text\",\n",
    "    label_column=\"category\", \n",
    "    columns_to_classify=[\"tutor_msg\"], \n",
    "    split_ratio=0.20,\n",
    "    prediction_save_path=f\"../data/final_outputs/feedback_annotated_final.csv\")"
   ]
  },
  {
   "cell_type": "code",
   "execution_count": 63,
   "id": "a981fa99",
   "metadata": {},
   "outputs": [
    {
     "data": {
      "text/html": [
       "<div>\n",
       "<style scoped>\n",
       "    .dataframe tbody tr th:only-of-type {\n",
       "        vertical-align: middle;\n",
       "    }\n",
       "\n",
       "    .dataframe tbody tr th {\n",
       "        vertical-align: top;\n",
       "    }\n",
       "\n",
       "    .dataframe thead th {\n",
       "        text-align: right;\n",
       "    }\n",
       "</style>\n",
       "<table border=\"1\" class=\"dataframe\">\n",
       "  <thead>\n",
       "    <tr style=\"text-align: right;\">\n",
       "      <th></th>\n",
       "      <th>turn</th>\n",
       "      <th>student_msg</th>\n",
       "      <th>tutor_msg</th>\n",
       "      <th>student_id</th>\n",
       "      <th>course</th>\n",
       "      <th>predicted_labels_tutor_msg</th>\n",
       "      <th>predicted_confidence_tutor_msg</th>\n",
       "    </tr>\n",
       "  </thead>\n",
       "  <tbody>\n",
       "    <tr>\n",
       "      <th>0</th>\n",
       "      <td>1</td>\n",
       "      <td>Here’s a paragraph I wrote in English. Could y...</td>\n",
       "      <td>Sure, please go ahead and share your paragraph...</td>\n",
       "      <td>evaluative_feedback_seed1_student1</td>\n",
       "      <td>evaluative_feedback</td>\n",
       "      <td>Encouragement</td>\n",
       "      <td>0.966863</td>\n",
       "    </tr>\n",
       "    <tr>\n",
       "      <th>1</th>\n",
       "      <td>2</td>\n",
       "      <td>Here is the paragraph I wrote:\\n\\n\"The city is...</td>\n",
       "      <td>Your paragraph effectively captures the hustle...</td>\n",
       "      <td>evaluative_feedback_seed1_student1</td>\n",
       "      <td>evaluative_feedback</td>\n",
       "      <td>Style</td>\n",
       "      <td>0.998001</td>\n",
       "    </tr>\n",
       "    <tr>\n",
       "      <th>2</th>\n",
       "      <td>3</td>\n",
       "      <td>Thank you for the suggestion! I like the added...</td>\n",
       "      <td>Great job refining your paragraph! Here are so...</td>\n",
       "      <td>evaluative_feedback_seed1_student1</td>\n",
       "      <td>evaluative_feedback</td>\n",
       "      <td>Encouragement</td>\n",
       "      <td>0.998581</td>\n",
       "    </tr>\n",
       "    <tr>\n",
       "      <th>3</th>\n",
       "      <td>4</td>\n",
       "      <td>Thank you for the feedback! I will start the e...</td>\n",
       "      <td>Great job, you've improved the flow! Here’s a ...</td>\n",
       "      <td>evaluative_feedback_seed1_student1</td>\n",
       "      <td>evaluative_feedback</td>\n",
       "      <td>Encouragement</td>\n",
       "      <td>0.996998</td>\n",
       "    </tr>\n",
       "    <tr>\n",
       "      <th>4</th>\n",
       "      <td>5</td>\n",
       "      <td>Thank you for the additional tweak! I think it...</td>\n",
       "      <td>Ending with \"vibrant\" reinforces the idea, so ...</td>\n",
       "      <td>evaluative_feedback_seed1_student1</td>\n",
       "      <td>evaluative_feedback</td>\n",
       "      <td>Encouragement</td>\n",
       "      <td>0.968482</td>\n",
       "    </tr>\n",
       "    <tr>\n",
       "      <th>...</th>\n",
       "      <td>...</td>\n",
       "      <td>...</td>\n",
       "      <td>...</td>\n",
       "      <td>...</td>\n",
       "      <td>...</td>\n",
       "      <td>...</td>\n",
       "      <td>...</td>\n",
       "    </tr>\n",
       "    <tr>\n",
       "      <th>145</th>\n",
       "      <td>2</td>\n",
       "      <td>Got it! Here's my initial summary of the chapt...</td>\n",
       "      <td>Great start! Here are some suggestions to enha...</td>\n",
       "      <td>evaluative_feedback_seed5_student5</td>\n",
       "      <td>evaluative_feedback</td>\n",
       "      <td>Posed Question</td>\n",
       "      <td>0.738326</td>\n",
       "    </tr>\n",
       "    <tr>\n",
       "      <th>146</th>\n",
       "      <td>3</td>\n",
       "      <td>Thank you for the detailed feedback! I appreci...</td>\n",
       "      <td>Absolutely! Here are some examples of specific...</td>\n",
       "      <td>evaluative_feedback_seed5_student5</td>\n",
       "      <td>evaluative_feedback</td>\n",
       "      <td>Content</td>\n",
       "      <td>0.815667</td>\n",
       "    </tr>\n",
       "    <tr>\n",
       "      <th>147</th>\n",
       "      <td>4</td>\n",
       "      <td>Thank you for the additional examples! I think...</td>\n",
       "      <td>Great to hear you found the examples helpful! ...</td>\n",
       "      <td>evaluative_feedback_seed5_student5</td>\n",
       "      <td>evaluative_feedback</td>\n",
       "      <td>Specificity</td>\n",
       "      <td>0.994304</td>\n",
       "    </tr>\n",
       "    <tr>\n",
       "      <th>148</th>\n",
       "      <td>5</td>\n",
       "      <td>That's a great suggestion! Including a specifi...</td>\n",
       "      <td>Your addition about honeybee populations is ex...</td>\n",
       "      <td>evaluative_feedback_seed5_student5</td>\n",
       "      <td>evaluative_feedback</td>\n",
       "      <td>Specificity</td>\n",
       "      <td>0.990093</td>\n",
       "    </tr>\n",
       "    <tr>\n",
       "      <th>149</th>\n",
       "      <td>6</td>\n",
       "      <td>I really like that addition! I think it streng...</td>\n",
       "      <td>Perfect! Here's a concise way to end:\\n\\n\"Prot...</td>\n",
       "      <td>evaluative_feedback_seed5_student5</td>\n",
       "      <td>evaluative_feedback</td>\n",
       "      <td>Encouragement</td>\n",
       "      <td>0.982295</td>\n",
       "    </tr>\n",
       "  </tbody>\n",
       "</table>\n",
       "<p>150 rows × 7 columns</p>\n",
       "</div>"
      ],
      "text/plain": [
       "     turn                                        student_msg  \\\n",
       "0       1  Here’s a paragraph I wrote in English. Could y...   \n",
       "1       2  Here is the paragraph I wrote:\\n\\n\"The city is...   \n",
       "2       3  Thank you for the suggestion! I like the added...   \n",
       "3       4  Thank you for the feedback! I will start the e...   \n",
       "4       5  Thank you for the additional tweak! I think it...   \n",
       "..    ...                                                ...   \n",
       "145     2  Got it! Here's my initial summary of the chapt...   \n",
       "146     3  Thank you for the detailed feedback! I appreci...   \n",
       "147     4  Thank you for the additional examples! I think...   \n",
       "148     5  That's a great suggestion! Including a specifi...   \n",
       "149     6  I really like that addition! I think it streng...   \n",
       "\n",
       "                                             tutor_msg  \\\n",
       "0    Sure, please go ahead and share your paragraph...   \n",
       "1    Your paragraph effectively captures the hustle...   \n",
       "2    Great job refining your paragraph! Here are so...   \n",
       "3    Great job, you've improved the flow! Here’s a ...   \n",
       "4    Ending with \"vibrant\" reinforces the idea, so ...   \n",
       "..                                                 ...   \n",
       "145  Great start! Here are some suggestions to enha...   \n",
       "146  Absolutely! Here are some examples of specific...   \n",
       "147  Great to hear you found the examples helpful! ...   \n",
       "148  Your addition about honeybee populations is ex...   \n",
       "149  Perfect! Here's a concise way to end:\\n\\n\"Prot...   \n",
       "\n",
       "                             student_id               course  \\\n",
       "0    evaluative_feedback_seed1_student1  evaluative_feedback   \n",
       "1    evaluative_feedback_seed1_student1  evaluative_feedback   \n",
       "2    evaluative_feedback_seed1_student1  evaluative_feedback   \n",
       "3    evaluative_feedback_seed1_student1  evaluative_feedback   \n",
       "4    evaluative_feedback_seed1_student1  evaluative_feedback   \n",
       "..                                  ...                  ...   \n",
       "145  evaluative_feedback_seed5_student5  evaluative_feedback   \n",
       "146  evaluative_feedback_seed5_student5  evaluative_feedback   \n",
       "147  evaluative_feedback_seed5_student5  evaluative_feedback   \n",
       "148  evaluative_feedback_seed5_student5  evaluative_feedback   \n",
       "149  evaluative_feedback_seed5_student5  evaluative_feedback   \n",
       "\n",
       "    predicted_labels_tutor_msg  predicted_confidence_tutor_msg  \n",
       "0                Encouragement                        0.966863  \n",
       "1                        Style                        0.998001  \n",
       "2                Encouragement                        0.998581  \n",
       "3                Encouragement                        0.996998  \n",
       "4                Encouragement                        0.968482  \n",
       "..                         ...                             ...  \n",
       "145             Posed Question                        0.738326  \n",
       "146                    Content                        0.815667  \n",
       "147                Specificity                        0.994304  \n",
       "148                Specificity                        0.990093  \n",
       "149              Encouragement                        0.982295  \n",
       "\n",
       "[150 rows x 7 columns]"
      ]
     },
     "execution_count": 63,
     "metadata": {},
     "output_type": "execute_result"
    }
   ],
   "source": [
    "predicted_feedback"
   ]
  },
  {
   "cell_type": "markdown",
   "id": "98713edd",
   "metadata": {},
   "source": [
    "## Visualizations:\n",
    "Visualising the descriptive statistics of the classification above"
   ]
  },
  {
   "cell_type": "code",
   "execution_count": 76,
   "id": "8948b314",
   "metadata": {},
   "outputs": [],
   "source": [
    "viz = Visualizer()"
   ]
  },
  {
   "cell_type": "code",
   "execution_count": 75,
   "id": "2d827357",
   "metadata": {},
   "outputs": [
    {
     "data": {
      "text/html": [
       "<div>\n",
       "<style scoped>\n",
       "    .dataframe tbody tr th:only-of-type {\n",
       "        vertical-align: middle;\n",
       "    }\n",
       "\n",
       "    .dataframe tbody tr th {\n",
       "        vertical-align: top;\n",
       "    }\n",
       "\n",
       "    .dataframe thead th {\n",
       "        text-align: right;\n",
       "    }\n",
       "</style>\n",
       "<table border=\"1\" class=\"dataframe\">\n",
       "  <thead>\n",
       "    <tr style=\"text-align: right;\">\n",
       "      <th></th>\n",
       "      <th>predicted_labels_tutor_msg</th>\n",
       "      <th>avg_confidence</th>\n",
       "      <th>std_confidence</th>\n",
       "    </tr>\n",
       "  </thead>\n",
       "  <tbody>\n",
       "    <tr>\n",
       "      <th>0</th>\n",
       "      <td>Advice</td>\n",
       "      <td>0.809281</td>\n",
       "      <td>0.196055</td>\n",
       "    </tr>\n",
       "    <tr>\n",
       "      <th>1</th>\n",
       "      <td>Content</td>\n",
       "      <td>0.823274</td>\n",
       "      <td>0.148631</td>\n",
       "    </tr>\n",
       "    <tr>\n",
       "      <th>2</th>\n",
       "      <td>Encouragement</td>\n",
       "      <td>0.944819</td>\n",
       "      <td>0.105785</td>\n",
       "    </tr>\n",
       "    <tr>\n",
       "      <th>3</th>\n",
       "      <td>Posed Question</td>\n",
       "      <td>0.839989</td>\n",
       "      <td>0.151402</td>\n",
       "    </tr>\n",
       "    <tr>\n",
       "      <th>4</th>\n",
       "      <td>Small Talk</td>\n",
       "      <td>0.523243</td>\n",
       "      <td>NaN</td>\n",
       "    </tr>\n",
       "    <tr>\n",
       "      <th>5</th>\n",
       "      <td>Specificity</td>\n",
       "      <td>0.838946</td>\n",
       "      <td>0.179768</td>\n",
       "    </tr>\n",
       "    <tr>\n",
       "      <th>6</th>\n",
       "      <td>Style</td>\n",
       "      <td>0.937165</td>\n",
       "      <td>0.119952</td>\n",
       "    </tr>\n",
       "  </tbody>\n",
       "</table>\n",
       "</div>"
      ],
      "text/plain": [
       "  predicted_labels_tutor_msg  avg_confidence  std_confidence\n",
       "0                     Advice        0.809281        0.196055\n",
       "1                    Content        0.823274        0.148631\n",
       "2              Encouragement        0.944819        0.105785\n",
       "3             Posed Question        0.839989        0.151402\n",
       "4                 Small Talk        0.523243             NaN\n",
       "5                Specificity        0.838946        0.179768\n",
       "6                      Style        0.937165        0.119952"
      ]
     },
     "execution_count": 75,
     "metadata": {},
     "output_type": "execute_result"
    }
   ],
   "source": [
    "# Group by predicted label and calculate mean + std of confidence - OBS this is not part of the main pipeline but calculated for reporting purposes\n",
    "grouped_conf_stats = predicted_feedback.groupby(\"predicted_labels_tutor_msg\")[\"predicted_confidence_tutor_msg\"].agg(\n",
    "    avg_confidence=\"mean\",\n",
    "    std_confidence=\"std\"\n",
    ").reset_index()\n",
    "\n",
    "grouped_conf_stats\n"
   ]
  },
  {
   "cell_type": "code",
   "execution_count": 79,
   "id": "713258d9",
   "metadata": {},
   "outputs": [
    {
     "data": {
      "text/html": [
       "<div>\n",
       "<style scoped>\n",
       "    .dataframe tbody tr th:only-of-type {\n",
       "        vertical-align: middle;\n",
       "    }\n",
       "\n",
       "    .dataframe tbody tr th {\n",
       "        vertical-align: top;\n",
       "    }\n",
       "\n",
       "    .dataframe thead th {\n",
       "        text-align: right;\n",
       "    }\n",
       "</style>\n",
       "<table border=\"1\" class=\"dataframe\">\n",
       "  <thead>\n",
       "    <tr style=\"text-align: right;\">\n",
       "      <th></th>\n",
       "      <th>Predicted Category</th>\n",
       "      <th>Tutor (n)</th>\n",
       "      <th>Tutor (%)</th>\n",
       "    </tr>\n",
       "  </thead>\n",
       "  <tbody>\n",
       "    <tr>\n",
       "      <th>0</th>\n",
       "      <td>Advice</td>\n",
       "      <td>12</td>\n",
       "      <td>8.0%</td>\n",
       "    </tr>\n",
       "    <tr>\n",
       "      <th>1</th>\n",
       "      <td>Content</td>\n",
       "      <td>10</td>\n",
       "      <td>6.7%</td>\n",
       "    </tr>\n",
       "    <tr>\n",
       "      <th>2</th>\n",
       "      <td>Encouragement</td>\n",
       "      <td>65</td>\n",
       "      <td>43.3%</td>\n",
       "    </tr>\n",
       "    <tr>\n",
       "      <th>3</th>\n",
       "      <td>Posed Question</td>\n",
       "      <td>16</td>\n",
       "      <td>10.7%</td>\n",
       "    </tr>\n",
       "    <tr>\n",
       "      <th>4</th>\n",
       "      <td>Small Talk</td>\n",
       "      <td>1</td>\n",
       "      <td>0.7%</td>\n",
       "    </tr>\n",
       "    <tr>\n",
       "      <th>5</th>\n",
       "      <td>Specificity</td>\n",
       "      <td>36</td>\n",
       "      <td>24.0%</td>\n",
       "    </tr>\n",
       "    <tr>\n",
       "      <th>6</th>\n",
       "      <td>Style</td>\n",
       "      <td>10</td>\n",
       "      <td>6.7%</td>\n",
       "    </tr>\n",
       "  </tbody>\n",
       "</table>\n",
       "</div>"
      ],
      "text/plain": [
       "  Predicted Category  Tutor (n) Tutor (%)\n",
       "0             Advice         12      8.0%\n",
       "1            Content         10      6.7%\n",
       "2      Encouragement         65     43.3%\n",
       "3     Posed Question         16     10.7%\n",
       "4         Small Talk          1      0.7%\n",
       "5        Specificity         36     24.0%\n",
       "6              Style         10      6.7%"
      ]
     },
     "execution_count": 79,
     "metadata": {},
     "output_type": "execute_result"
    }
   ],
   "source": [
    "# Summary table\n",
    "summary = viz.create_summary_table(\n",
    "    df=predicted_feedback,\n",
    "    tutor_col=\"predicted_labels_tutor_msg\"\n",
    ")\n",
    "summary\n"
   ]
  },
  {
   "cell_type": "code",
   "execution_count": 104,
   "id": "81399bed",
   "metadata": {},
   "outputs": [
    {
     "data": {
      "image/png": "[encoded data removed]",
      "text/plain": [
       "<Figure size 1000x600 with 1 Axes>"
      ]
     },
     "metadata": {},
     "output_type": "display_data"
    }
   ],
   "source": [
    "viz.plot_category_bars(\n",
    "    df=predicted_feedback,\n",
    "    tutor_col=\"predicted_labels_tutor_msg\",\n",
    "    use_percent=True,\n",
    "    title=\"Predicted Categories of Feedback\",\n",
    "    palette=\"twilight\",\n",
    ")\n"
   ]
  },
  {
   "cell_type": "markdown",
   "id": "067cf266",
   "metadata": {},
   "source": [
    "når alt andet er done!!!"
   ]
  },
  {
   "cell_type": "code",
   "execution_count": 7,
   "id": "8a972318",
   "metadata": {},
   "outputs": [
    {
     "data": {
      "image/png": "[encoded data removed]",
      "text/plain": [
       "<Figure size 824.125x450 with 1 Axes>"
      ]
     },
     "metadata": {},
     "output_type": "display_data"
    }
   ],
   "source": [
    "viz.plot_turn_trends(\n",
    "    df=predicted_feedback,\n",
    "    tutor_col=\"predicted_labels_tutor_msg\",\n",
    "    session_col=\"student_id\",  # <- required for CIs\n",
    "    show_ci=True,\n",
    "    title=\"Categories of Feedback over Turns\",\n",
    ")"
   ]
  }
 ],
 "metadata": {
  "kernelspec": {
   "display_name": "Python 3",
   "language": "python",
   "name": "python3"
  },
  "language_info": {
   "codemirror_mode": {
    "name": "ipython",
    "version": 3
   },
   "file_extension": ".py",
   "mimetype": "text/x-python",
   "name": "python",
   "nbconvert_exporter": "python",
   "pygments_lexer": "ipython3",
   "version": "3.12.2"
  }
 },
 "nbformat": 4,
 "nbformat_minor": 5
}
