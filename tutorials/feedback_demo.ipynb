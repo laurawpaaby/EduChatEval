{
 "cells": [
  {
   "cell_type": "markdown",
   "id": "2b04901c",
   "metadata": {},
   "source": [
    "# Proof of Concept: \n",
    "## Investigating Chatbot Feedback Types\n",
    "\n",
    "This notebook demonstrates the full pipeline implemented in the package, illustrating a potential use case in the absence of real data.\n",
    "In this case, it simulates a researcher who is investigating the types and occurences of feedback a given chatbot is providing 3 students in two different courses: Geography and Physics. \n",
    "The framework used to do so is from Rasmus, and in this case only the . This mimics a more student-near analysis, as the researcher is not interested in aggregated results but want to assess the use at individual level. \n",
    "\n",
    "The steps to do so are as follows:\n",
    "1. A synthetic framework (i.e., an annotated dataset) is first generated.\n",
    "2. Next, interactions are simulated between two agents representing a 'student' and a 'tutor'.\n",
    "3. A BERT classifier is then trained on the synthesized data. \n",
    "4. The trained classifier is then applied to the simulated conversation. In this case, only the tutor agent's outputs are analyzed.\n",
    "5. Finally, the classified data is presented in a descriptive format, showcasing the researchers results. "
   ]
  },
  {
   "cell_type": "markdown",
   "id": "aea62e4e",
   "metadata": {},
   "source": []
  }
 ],
 "metadata": {
  "language_info": {
   "name": "python"
  }
 },
 "nbformat": 4,
 "nbformat_minor": 5
}
