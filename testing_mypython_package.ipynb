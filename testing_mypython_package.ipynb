{
 "cells": [
  {
   "cell_type": "code",
   "execution_count": 3,
   "metadata": {},
   "outputs": [
    {
     "data": {
      "text/plain": [
       "'/Users/dklaupaa/Desktop/chat_wrap_package'"
      ]
     },
     "execution_count": 3,
     "metadata": {},
     "output_type": "execute_result"
    }
   ],
   "source": [
    "import os\n",
    "os.getcwd()"
   ]
  },
  {
   "cell_type": "markdown",
   "metadata": {},
   "source": [
    "# 1. Generate Synthetic Framework "
   ]
  },
  {
   "cell_type": "code",
   "execution_count": 3,
   "metadata": {},
   "outputs": [],
   "source": [
    "from mypythonpackage import FrameworkGenerator\n",
    "import pandas as pd"
   ]
  },
  {
   "cell_type": "markdown",
   "metadata": {},
   "source": [
    "this is just a test for my self to see what functions i'd actually like for it to have - realised that it is wayyy too specific, needs to be more modular still. ++++\n",
    "needs to be flexible in the input it takes in like categories should could be defined in this notebook :)"
   ]
  },
  {
   "cell_type": "code",
   "execution_count": 4,
   "metadata": {},
   "outputs": [],
   "source": [
    "\n",
    "generator = FrameworkGenerator(model_name=\"llama-3.2-3b-instruct\")\n"
   ]
  },
  {
   "cell_type": "code",
   "execution_count": 5,
   "metadata": {},
   "outputs": [
    {
     "name": "stdout",
     "output_type": "stream",
     "text": [
      "Generating for category: Clarification\n",
      "Generating for category: Small Talk\n",
      "Generating for category: Question\n",
      "Number of duplicates removed: 5\n",
      "Snippet of the generated framework:\n",
      "                                                text       category\n",
      "0               Could you explain the concept again?  Clarification\n",
      "1  Would it help to provide an example or illustr...  Clarification\n",
      "2  Can you explain the concept of \"design thinkin...  Clarification\n",
      "3  Can you rephrase the question to make it more ...  Clarification\n",
      "4  Let me try to explain it again. The term \"dist...  Clarification\n"
     ]
    }
   ],
   "source": [
    "# Step 1 - Generate a framework\n",
    "df = generator.generate_framework(\n",
    "    prompt_path=\"src/framework_generation/outline_prompts/prompt_default.py\", ### THIS NEEDS TO BE UPDATED TO ALSO TAKE IN A DIRECTORY DIRECTLY \n",
    "    num_samples=10,\n",
    "    api_url=\"http://localhost:1234/v1/completions\"\n",
    "    #json_out=\"output/data.json\",\n",
    "    #csv_out=\"output/data.csv\"\n",
    ")\n",
    "\n",
    "print(\"Snippet of the generated framework:\")\n",
    "print(df.head())"
   ]
  },
  {
   "cell_type": "code",
   "execution_count": 9,
   "metadata": {},
   "outputs": [
    {
     "name": "stdout",
     "output_type": "stream",
     "text": [
      "Max token: 34 Average token: 15.186046511627907\n"
     ]
    },
    {
     "name": "stderr",
     "output_type": "stream",
     "text": [
      "Map: 100%|██████████| 43/43 [00:00<00:00, 10554.49 examples/s]\n",
      "Map: 100%|██████████| 11/11 [00:00<00:00, 5575.51 examples/s]\n",
      "Some weights of DistilBertForSequenceClassification were not initialized from the model checkpoint at distilbert-base-uncased and are newly initialized: ['classifier.bias', 'classifier.weight', 'pre_classifier.bias', 'pre_classifier.weight']\n",
      "You should probably TRAIN this model on a down-stream task to be able to use it for predictions and inference.\n",
      "/Users/dklaupaa/Library/Caches/pypoetry/virtualenvs/chat-wrap-package-h94m8WQz-py3.12/lib/python3.12/site-packages/transformers/training_args.py:1594: FutureWarning: `evaluation_strategy` is deprecated and will be removed in version 4.46 of 🤗 Transformers. Use `eval_strategy` instead\n",
      "  warnings.warn(\n"
     ]
    },
    {
     "data": {
      "text/html": [
       "\n",
       "    <div>\n",
       "      \n",
       "      <progress value='24' max='24' style='width:300px; height:20px; vertical-align: middle;'></progress>\n",
       "      [24/24 00:05, Epoch 4/4]\n",
       "    </div>\n",
       "    <table border=\"1\" class=\"dataframe\">\n",
       "  <thead>\n",
       " <tr style=\"text-align: left;\">\n",
       "      <th>Epoch</th>\n",
       "      <th>Training Loss</th>\n",
       "      <th>Validation Loss</th>\n",
       "      <th>Accuracy</th>\n",
       "      <th>Precision</th>\n",
       "      <th>Recall</th>\n",
       "      <th>F1</th>\n",
       "    </tr>\n",
       "  </thead>\n",
       "  <tbody>\n",
       "    <tr>\n",
       "      <td>1</td>\n",
       "      <td>No log</td>\n",
       "      <td>0.928502</td>\n",
       "      <td>0.545455</td>\n",
       "      <td>0.797980</td>\n",
       "      <td>0.545455</td>\n",
       "      <td>0.496503</td>\n",
       "    </tr>\n",
       "    <tr>\n",
       "      <td>2</td>\n",
       "      <td>No log</td>\n",
       "      <td>0.683839</td>\n",
       "      <td>1.000000</td>\n",
       "      <td>1.000000</td>\n",
       "      <td>1.000000</td>\n",
       "      <td>1.000000</td>\n",
       "    </tr>\n",
       "    <tr>\n",
       "      <td>3</td>\n",
       "      <td>No log</td>\n",
       "      <td>0.537540</td>\n",
       "      <td>1.000000</td>\n",
       "      <td>1.000000</td>\n",
       "      <td>1.000000</td>\n",
       "      <td>1.000000</td>\n",
       "    </tr>\n",
       "    <tr>\n",
       "      <td>4</td>\n",
       "      <td>No log</td>\n",
       "      <td>0.472429</td>\n",
       "      <td>1.000000</td>\n",
       "      <td>1.000000</td>\n",
       "      <td>1.000000</td>\n",
       "      <td>1.000000</td>\n",
       "    </tr>\n",
       "  </tbody>\n",
       "</table><p>"
      ],
      "text/plain": [
       "<IPython.core.display.HTML object>"
      ]
     },
     "metadata": {},
     "output_type": "display_data"
    },
    {
     "data": {
      "text/html": [
       "\n",
       "    <div>\n",
       "      \n",
       "      <progress value='2' max='2' style='width:300px; height:20px; vertical-align: middle;'></progress>\n",
       "      [2/2 00:00]\n",
       "    </div>\n",
       "    "
      ],
      "text/plain": [
       "<IPython.core.display.HTML object>"
      ]
     },
     "metadata": {},
     "output_type": "display_data"
    },
    {
     "name": "stderr",
     "output_type": "stream",
     "text": [
      "Map: 100%|██████████| 850/850 [00:00<00:00, 14122.91 examples/s]\n"
     ]
    },
    {
     "data": {
      "text/html": [],
      "text/plain": [
       "<IPython.core.display.HTML object>"
      ]
     },
     "metadata": {},
     "output_type": "display_data"
    },
    {
     "name": "stdout",
     "output_type": "stream",
     "text": [
      "Filtered data saved to data/generated_tuning_data/PACKAKGE_QUALDATA.csv\n"
     ]
    }
   ],
   "source": [
    "# Step 2: Train + filter\n",
    "# Either from CSV\n",
    "filtered_df = generator.filter_with_classifier(\n",
    "    train_data=\"data/tiny_labeled_data.csv\",\n",
    "    synth_data=\"data/generated_tuning_data/FINAL_synthetic_combined500.csv\",\n",
    "    filtered_save_path=\"data/generated_tuning_data/PACKAKGE_QUALDATA.csv\"\n",
    ")\n"
   ]
  },
  {
   "cell_type": "code",
   "execution_count": 10,
   "metadata": {},
   "outputs": [
    {
     "name": "stdout",
     "output_type": "stream",
     "text": [
      "Max token: 34 Average token: 15.186046511627907\n"
     ]
    },
    {
     "name": "stderr",
     "output_type": "stream",
     "text": [
      "Map: 100%|██████████| 43/43 [00:00<00:00, 14126.66 examples/s]\n",
      "Map: 100%|██████████| 11/11 [00:00<00:00, 5172.35 examples/s]\n",
      "Some weights of DistilBertForSequenceClassification were not initialized from the model checkpoint at distilbert-base-uncased and are newly initialized: ['classifier.bias', 'classifier.weight', 'pre_classifier.bias', 'pre_classifier.weight']\n",
      "You should probably TRAIN this model on a down-stream task to be able to use it for predictions and inference.\n",
      "/Users/dklaupaa/Library/Caches/pypoetry/virtualenvs/chat-wrap-package-h94m8WQz-py3.12/lib/python3.12/site-packages/transformers/training_args.py:1594: FutureWarning: `evaluation_strategy` is deprecated and will be removed in version 4.46 of 🤗 Transformers. Use `eval_strategy` instead\n",
      "  warnings.warn(\n"
     ]
    },
    {
     "data": {
      "text/html": [
       "\n",
       "    <div>\n",
       "      \n",
       "      <progress value='24' max='24' style='width:300px; height:20px; vertical-align: middle;'></progress>\n",
       "      [24/24 00:05, Epoch 4/4]\n",
       "    </div>\n",
       "    <table border=\"1\" class=\"dataframe\">\n",
       "  <thead>\n",
       " <tr style=\"text-align: left;\">\n",
       "      <th>Epoch</th>\n",
       "      <th>Training Loss</th>\n",
       "      <th>Validation Loss</th>\n",
       "      <th>Accuracy</th>\n",
       "      <th>Precision</th>\n",
       "      <th>Recall</th>\n",
       "      <th>F1</th>\n",
       "    </tr>\n",
       "  </thead>\n",
       "  <tbody>\n",
       "    <tr>\n",
       "      <td>1</td>\n",
       "      <td>No log</td>\n",
       "      <td>0.928502</td>\n",
       "      <td>0.545455</td>\n",
       "      <td>0.797980</td>\n",
       "      <td>0.545455</td>\n",
       "      <td>0.496503</td>\n",
       "    </tr>\n",
       "    <tr>\n",
       "      <td>2</td>\n",
       "      <td>No log</td>\n",
       "      <td>0.683839</td>\n",
       "      <td>1.000000</td>\n",
       "      <td>1.000000</td>\n",
       "      <td>1.000000</td>\n",
       "      <td>1.000000</td>\n",
       "    </tr>\n",
       "    <tr>\n",
       "      <td>3</td>\n",
       "      <td>No log</td>\n",
       "      <td>0.537540</td>\n",
       "      <td>1.000000</td>\n",
       "      <td>1.000000</td>\n",
       "      <td>1.000000</td>\n",
       "      <td>1.000000</td>\n",
       "    </tr>\n",
       "    <tr>\n",
       "      <td>4</td>\n",
       "      <td>No log</td>\n",
       "      <td>0.472429</td>\n",
       "      <td>1.000000</td>\n",
       "      <td>1.000000</td>\n",
       "      <td>1.000000</td>\n",
       "      <td>1.000000</td>\n",
       "    </tr>\n",
       "  </tbody>\n",
       "</table><p>"
      ],
      "text/plain": [
       "<IPython.core.display.HTML object>"
      ]
     },
     "metadata": {},
     "output_type": "display_data"
    },
    {
     "data": {
      "text/html": [
       "\n",
       "    <div>\n",
       "      \n",
       "      <progress value='2' max='2' style='width:300px; height:20px; vertical-align: middle;'></progress>\n",
       "      [2/2 00:00]\n",
       "    </div>\n",
       "    "
      ],
      "text/plain": [
       "<IPython.core.display.HTML object>"
      ]
     },
     "metadata": {},
     "output_type": "display_data"
    },
    {
     "name": "stderr",
     "output_type": "stream",
     "text": [
      "Map: 100%|██████████| 25/25 [00:00<00:00, 6720.35 examples/s]\n"
     ]
    },
    {
     "data": {
      "text/html": [],
      "text/plain": [
       "<IPython.core.display.HTML object>"
      ]
     },
     "metadata": {},
     "output_type": "display_data"
    }
   ],
   "source": [
    "# Or entirely in memory\n",
    "df_train = \"data/tiny_labeled_data.csv\"\n",
    "df_synth = df\n",
    "\n",
    "filtered_df = generator.filter_with_classifier(\n",
    "    train_data=df_train,\n",
    "    synth_data=df_synth\n",
    ")"
   ]
  },
  {
   "cell_type": "markdown",
   "metadata": {},
   "source": [
    "# 2. Generate Synthetic Tutor/Student Dialogue \n",
    "this is only for pof and probably not a part of the final pipeline "
   ]
  },
  {
   "cell_type": "code",
   "execution_count": 1,
   "metadata": {},
   "outputs": [
    {
     "name": "stderr",
     "output_type": "stream",
     "text": [
      "/Users/dklaupaa/Library/Caches/pypoetry/virtualenvs/chat-wrap-package-h94m8WQz-py3.12/lib/python3.12/site-packages/tqdm/auto.py:21: TqdmWarning: IProgress not found. Please update jupyter and ipywidgets. See https://ipywidgets.readthedocs.io/en/stable/user_install.html\n",
      "  from .autonotebook import tqdm as notebook_tqdm\n"
     ]
    }
   ],
   "source": [
    "from mypythonpackage import DialogueSimulator\n",
    "from pathlib import Path"
   ]
  },
  {
   "cell_type": "code",
   "execution_count": 2,
   "metadata": {},
   "outputs": [
    {
     "name": "stderr",
     "output_type": "stream",
     "text": [
      "Fetching 9 files: 100%|██████████| 9/9 [00:00<00:00, 79638.68it/s]\n"
     ]
    }
   ],
   "source": [
    "#simulator = DialogueSimulator(backend=\"hf\", model_id=\"gpt2\")\n",
    "simulator = DialogueSimulator(backend=\"mlx\", model_id=\"mlx-community/Qwen2.5-7B-Instruct-1M-4bit\")"
   ]
  },
  {
   "cell_type": "code",
   "execution_count": 3,
   "metadata": {},
   "outputs": [
    {
     "name": "stdout",
     "output_type": "stream",
     "text": [
      "\n",
      "--- Starting Dialogue Simulation ---\n",
      "\n",
      "[Student]: Hi, I'm a student seeking assistance with my studies.\n"
     ]
    },
    {
     "name": "stderr",
     "output_type": "stream",
     "text": [
      "mx.metal.set_wired_limt is deprecated and will be removed in a future version. Use mx.set_wired_limit instead.\n",
      "mx.metal.get_peak_memory is deprecated and will be removed in a future version. Use mx.get_peak_memory instead.\n",
      "mx.metal.clear_cache is deprecated and will be removed in a future version. Use mx.clear_cache instead.\n"
     ]
    },
    {
     "name": "stdout",
     "output_type": "stream",
     "text": [
      "[Tutor]: Welcome! I'm here to help. Could you share the specific area or assignment you'd like assistance with?\n",
      "\n",
      "Turn 2:\n",
      "[Student]: Sure, here's my work for feedback:\n",
      "\n",
      "\"The importance of time management in student success cannot be overstated. Effective time management is crucial for academic success as it ensures that students have enough time to study, complete assignments, and participate in extra-curricular activities. Good time management also helps to reduce stress and improve overall well-being. A student who manages their time well can balance their responsibilities more effectively and achieve better results in their studies. \"\n",
      "[Tutor]: Your paragraph effectively communicates the importance of time management. To enhance it, consider adding examples of how time management strategies can be implemented. This could make your argument more concrete and relatable. How might you incorporate specific strategies or benefits into your explanation?\n",
      "\n",
      "Turn 3:\n",
      "[Student]: Thank you for the feedback. I was thinking about adding some examples like setting a schedule, prioritizing tasks, and taking regular breaks. Would it be helpful to include these examples in the paragraph?\n",
      "[Tutor]: Absolutely! Adding examples like setting a schedule, prioritizing tasks, and taking breaks will make your points more concrete and actionable. This will help readers visualize how time management can be practiced effectively. Go ahead and integrate these examples!\n",
      "\n",
      "Turn 4:\n",
      "[Student]: I'll revise my paragraph with those examples. Here's the updated version:\n",
      "\n",
      "\"The importance of time management in student success cannot be overstated. Effective time management is crucial for academic success as it ensures that students have enough time to study, complete assignments, and participate in extra-curricular activities. A student who manages their time well can balance their responsibilities more effectively and achieve better results in their studies. Specific strategies include setting a daily or weekly schedule, prioritizing tasks, and taking regular breaks. These practices can help reduce stress and improve overall well-being.\"\n",
      "\n",
      "Would you mind reviewing this revised version and providing more feedback?\n",
      "[Tutor]: Great revision! Your updated paragraph is clearer and more actionable. Consider adding a sentence at the end that reinforces the benefits of these strategies. For example, you could mention how these practices lead to better academic performance or stress reduction. This will strengthen your conclusion.\n",
      "\n",
      "Turn 5:\n",
      "[Student]: Thank you for the suggestion. I'll add that final sentence to my paragraph. Here's the revised version:\n",
      "\n",
      "\"The importance of time management in student success cannot be overstated. Effective time management is crucial for academic success as it ensures that students have enough time to study, complete assignments, and participate in extra-curricular activities. A student who manages their time well can balance their responsibilities more effectively and achieve better results in their studies. Specific strategies include setting a daily or weekly schedule, prioritizing tasks, and taking regular breaks. These practices can help reduce stress and improve overall well-being, ultimately leading to better academic performance.\"\n",
      "\n",
      "Do you think this version captures the message effectively?\n",
      "[Tutor]: Your revised paragraph now effectively communicates the benefits of time management and specific strategies. It’s clear and concise. Consider adding a brief opening sentence that transitions the reader into the importance of time management for student success. This will help flow better. Great job overall!\n",
      "\n",
      "Turn 6:\n",
      "[Student]: Thank you for the suggestion. I’ll add an opening sentence to better introduce the topic. Here’s the new version:\n",
      "\n",
      "\"Time management is essential for student success, impacting various aspects of academic life. Effective time management ensures that students have enough time to study, complete assignments, and participate in extra-curricular activities. Specific strategies include setting a daily or weekly schedule, prioritizing tasks, and taking regular breaks. These practices can help reduce stress and improve overall well-being, ultimately leading to better academic performance.\"\n",
      "\n",
      "Would you please review this final version and let me know if it meets your expectations?\n",
      "[Tutor]: Great job! Your final version clearly introduces the topic and connects the strategies to their benefits. Well done! Consider reflecting on how you could further engage the reader by adding a personal anecdote or a brief statistic about time management to make the paragraph even more impactful.\n",
      "\n",
      "[INFO]: Structured dialogue saved to CSV at output/dialogue.csv\n",
      "[INFO]: Raw log saved to logs/raw\n"
     ]
    }
   ],
   "source": [
    "df = simulator.simulate_dialogue(\n",
    "    mode=\"evaluative_feedback\",\n",
    "    turns=6,\n",
    "    log_dir=Path(\"logs/raw\"),\n",
    "    save_csv_path=Path(\"output/dialogue.csv\")\n",
    ")"
   ]
  },
  {
   "cell_type": "code",
   "execution_count": null,
   "metadata": {},
   "outputs": [],
   "source": []
  }
 ],
 "metadata": {
  "kernelspec": {
   "display_name": "chat-wrap-package-h94m8WQz-py3.12",
   "language": "python",
   "name": "python3"
  },
  "language_info": {
   "codemirror_mode": {
    "name": "ipython",
    "version": 3
   },
   "file_extension": ".py",
   "mimetype": "text/x-python",
   "name": "python",
   "nbconvert_exporter": "python",
   "pygments_lexer": "ipython3",
   "version": "3.12.2"
  }
 },
 "nbformat": 4,
 "nbformat_minor": 2
}
