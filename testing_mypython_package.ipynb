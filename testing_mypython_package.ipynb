{
 "cells": [
  {
   "cell_type": "code",
   "execution_count": 3,
   "metadata": {},
   "outputs": [
    {
     "data": {
      "text/plain": [
       "'/Users/dklaupaa/Desktop/chat_wrap_package'"
      ]
     },
     "execution_count": 3,
     "metadata": {},
     "output_type": "execute_result"
    }
   ],
   "source": [
    "import os\n",
    "os.getcwd()"
   ]
  },
  {
   "cell_type": "markdown",
   "metadata": {},
   "source": [
    "# 1. Generate Synthetic Framework "
   ]
  },
  {
   "cell_type": "code",
   "execution_count": 1,
   "metadata": {},
   "outputs": [
    {
     "name": "stderr",
     "output_type": "stream",
     "text": [
      "/Users/dklaupaa/Library/Caches/pypoetry/virtualenvs/chat-wrap-package-h94m8WQz-py3.12/lib/python3.12/site-packages/tqdm/auto.py:21: TqdmWarning: IProgress not found. Please update jupyter and ipywidgets. See https://ipywidgets.readthedocs.io/en/stable/user_install.html\n",
      "  from .autonotebook import tqdm as notebook_tqdm\n"
     ]
    }
   ],
   "source": [
    "from mypythonpackage import FrameworkGenerator\n",
    "import pandas as pd"
   ]
  },
  {
   "cell_type": "markdown",
   "metadata": {},
   "source": [
    "this is just a test for my self to see what functions i'd actually like for it to have - realised that it is wayyy too specific, needs to be more modular still. ++++\n",
    "needs to be flexible in the input it takes in like categories should could be defined in this notebook :) PLUS i want for it to not be overly csv dependent but to be worked with directly in here too"
   ]
  },
  {
   "cell_type": "code",
   "execution_count": 2,
   "metadata": {},
   "outputs": [],
   "source": [
    "\n",
    "generator = FrameworkGenerator(model_name=\"llama-3.2-3b-instruct\")\n"
   ]
  },
  {
   "cell_type": "code",
   "execution_count": 3,
   "metadata": {},
   "outputs": [
    {
     "name": "stdout",
     "output_type": "stream",
     "text": [
      "Generating for category: Clarification\n",
      "Skipping invalid output for category 'Clarification': 'choices'\n",
      "Generating for category: Small Talk\n",
      "Generating for category: Question\n",
      "Number of duplicates removed: 5\n",
      "Snippet of the generated framework:\n",
      "                                                text       category\n",
      "0  To clarify, you could rephrase the original qu...  Clarification\n",
      "1  Can you rephrase or explain that in a differen...  Clarification\n",
      "2  Can you explain the concept again, and provide...  Clarification\n",
      "3  Can you rephrase the question or provide more ...  Clarification\n",
      "4  Would you like me to break it down into smalle...  Clarification\n"
     ]
    }
   ],
   "source": [
    "# Step 1 - Generate a framework\n",
    "# the cool kinda thing here is that you can use any prompt you want and hence generate any framework you want !! :D \n",
    "df = generator.generate_framework(\n",
    "    prompt_path=\"src/framework_generation/outline_prompts/prompt_default.py\", ### THIS NEEDS TO BE UPDATED TO ALSO TAKE IN A DIRECTORY DIRECTLY \n",
    "    num_samples=10,\n",
    "    api_url=\"http://localhost:1234/v1/completions\"\n",
    "    #json_out=\"output/data.json\",\n",
    "    #csv_out=\"output/data.csv\"\n",
    ")\n",
    "\n",
    "print(\"Snippet of the generated framework:\")\n",
    "print(df.head())"
   ]
  },
  {
   "cell_type": "code",
   "execution_count": 12,
   "metadata": {},
   "outputs": [
    {
     "name": "stdout",
     "output_type": "stream",
     "text": [
      "Max token: 34 Average token: 15.186046511627907\n"
     ]
    },
    {
     "name": "stderr",
     "output_type": "stream",
     "text": [
      "Map: 100%|██████████| 43/43 [00:00<00:00, 13817.14 examples/s]\n",
      "Map: 100%|██████████| 11/11 [00:00<00:00, 5193.89 examples/s]\n",
      "Some weights of DistilBertForSequenceClassification were not initialized from the model checkpoint at distilbert-base-uncased and are newly initialized: ['classifier.bias', 'classifier.weight', 'pre_classifier.bias', 'pre_classifier.weight']\n",
      "You should probably TRAIN this model on a down-stream task to be able to use it for predictions and inference.\n",
      "/Users/dklaupaa/Library/Caches/pypoetry/virtualenvs/chat-wrap-package-h94m8WQz-py3.12/lib/python3.12/site-packages/transformers/training_args.py:1594: FutureWarning: `evaluation_strategy` is deprecated and will be removed in version 4.46 of 🤗 Transformers. Use `eval_strategy` instead\n",
      "  warnings.warn(\n"
     ]
    },
    {
     "data": {
      "text/html": [
       "\n",
       "    <div>\n",
       "      \n",
       "      <progress value='24' max='24' style='width:300px; height:20px; vertical-align: middle;'></progress>\n",
       "      [24/24 00:05, Epoch 4/4]\n",
       "    </div>\n",
       "    <table border=\"1\" class=\"dataframe\">\n",
       "  <thead>\n",
       " <tr style=\"text-align: left;\">\n",
       "      <th>Epoch</th>\n",
       "      <th>Training Loss</th>\n",
       "      <th>Validation Loss</th>\n",
       "      <th>Accuracy</th>\n",
       "      <th>Precision</th>\n",
       "      <th>Recall</th>\n",
       "      <th>F1</th>\n",
       "    </tr>\n",
       "  </thead>\n",
       "  <tbody>\n",
       "    <tr>\n",
       "      <td>1</td>\n",
       "      <td>No log</td>\n",
       "      <td>0.928502</td>\n",
       "      <td>0.545455</td>\n",
       "      <td>0.797980</td>\n",
       "      <td>0.545455</td>\n",
       "      <td>0.496503</td>\n",
       "    </tr>\n",
       "    <tr>\n",
       "      <td>2</td>\n",
       "      <td>No log</td>\n",
       "      <td>0.683839</td>\n",
       "      <td>1.000000</td>\n",
       "      <td>1.000000</td>\n",
       "      <td>1.000000</td>\n",
       "      <td>1.000000</td>\n",
       "    </tr>\n",
       "    <tr>\n",
       "      <td>3</td>\n",
       "      <td>No log</td>\n",
       "      <td>0.537540</td>\n",
       "      <td>1.000000</td>\n",
       "      <td>1.000000</td>\n",
       "      <td>1.000000</td>\n",
       "      <td>1.000000</td>\n",
       "    </tr>\n",
       "    <tr>\n",
       "      <td>4</td>\n",
       "      <td>No log</td>\n",
       "      <td>0.472429</td>\n",
       "      <td>1.000000</td>\n",
       "      <td>1.000000</td>\n",
       "      <td>1.000000</td>\n",
       "      <td>1.000000</td>\n",
       "    </tr>\n",
       "  </tbody>\n",
       "</table><p>"
      ],
      "text/plain": [
       "<IPython.core.display.HTML object>"
      ]
     },
     "metadata": {},
     "output_type": "display_data"
    },
    {
     "data": {
      "text/html": [
       "\n",
       "    <div>\n",
       "      \n",
       "      <progress value='2' max='2' style='width:300px; height:20px; vertical-align: middle;'></progress>\n",
       "      [2/2 00:00]\n",
       "    </div>\n",
       "    "
      ],
      "text/plain": [
       "<IPython.core.display.HTML object>"
      ]
     },
     "metadata": {},
     "output_type": "display_data"
    },
    {
     "name": "stderr",
     "output_type": "stream",
     "text": [
      "Map: 100%|██████████| 850/850 [00:00<00:00, 14157.45 examples/s]\n"
     ]
    },
    {
     "data": {
      "text/html": [],
      "text/plain": [
       "<IPython.core.display.HTML object>"
      ]
     },
     "metadata": {},
     "output_type": "display_data"
    },
    {
     "name": "stdout",
     "output_type": "stream",
     "text": [
      "Filtered data saved to data/generated_tuning_data/PACKAKGE_QUALDATA.csv\n"
     ]
    }
   ],
   "source": [
    "# Step 2: Train + filter \n",
    "# to do the filtering a tiny labeled dataset is required for few shot learning, but that can fairly easily be made \n",
    "# Either from CSV\n",
    "filtered_df = generator.filter_with_classifier(\n",
    "    train_data=\"data/tiny_labeled_data.csv\",\n",
    "    synth_data=\"data/generated_tuning_data/FINAL_synthetic_combined500.csv\",\n",
    "    filtered_save_path=\"data/generated_tuning_data/PACKAKGE_QUALDATA.csv\"\n",
    ")"
   ]
  },
  {
   "cell_type": "code",
   "execution_count": 5,
   "metadata": {},
   "outputs": [
    {
     "name": "stdout",
     "output_type": "stream",
     "text": [
      "Max token: 34 Average token: 15.186046511627907\n"
     ]
    },
    {
     "name": "stderr",
     "output_type": "stream",
     "text": [
      "Map: 100%|██████████| 43/43 [00:00<00:00, 14852.60 examples/s]\n",
      "Map: 100%|██████████| 11/11 [00:00<00:00, 4802.97 examples/s]\n",
      "Some weights of DistilBertForSequenceClassification were not initialized from the model checkpoint at distilbert-base-uncased and are newly initialized: ['classifier.bias', 'classifier.weight', 'pre_classifier.bias', 'pre_classifier.weight']\n",
      "You should probably TRAIN this model on a down-stream task to be able to use it for predictions and inference.\n",
      "/Users/dklaupaa/Library/Caches/pypoetry/virtualenvs/chat-wrap-package-h94m8WQz-py3.12/lib/python3.12/site-packages/transformers/training_args.py:1594: FutureWarning: `evaluation_strategy` is deprecated and will be removed in version 4.46 of 🤗 Transformers. Use `eval_strategy` instead\n",
      "  warnings.warn(\n"
     ]
    },
    {
     "data": {
      "text/html": [
       "\n",
       "    <div>\n",
       "      \n",
       "      <progress value='24' max='24' style='width:300px; height:20px; vertical-align: middle;'></progress>\n",
       "      [24/24 00:05, Epoch 4/4]\n",
       "    </div>\n",
       "    <table border=\"1\" class=\"dataframe\">\n",
       "  <thead>\n",
       " <tr style=\"text-align: left;\">\n",
       "      <th>Epoch</th>\n",
       "      <th>Training Loss</th>\n",
       "      <th>Validation Loss</th>\n",
       "      <th>Accuracy</th>\n",
       "      <th>Precision</th>\n",
       "      <th>Recall</th>\n",
       "      <th>F1</th>\n",
       "    </tr>\n",
       "  </thead>\n",
       "  <tbody>\n",
       "    <tr>\n",
       "      <td>1</td>\n",
       "      <td>No log</td>\n",
       "      <td>0.928502</td>\n",
       "      <td>0.545455</td>\n",
       "      <td>0.797980</td>\n",
       "      <td>0.545455</td>\n",
       "      <td>0.496503</td>\n",
       "    </tr>\n",
       "    <tr>\n",
       "      <td>2</td>\n",
       "      <td>No log</td>\n",
       "      <td>0.683839</td>\n",
       "      <td>1.000000</td>\n",
       "      <td>1.000000</td>\n",
       "      <td>1.000000</td>\n",
       "      <td>1.000000</td>\n",
       "    </tr>\n",
       "    <tr>\n",
       "      <td>3</td>\n",
       "      <td>No log</td>\n",
       "      <td>0.537540</td>\n",
       "      <td>1.000000</td>\n",
       "      <td>1.000000</td>\n",
       "      <td>1.000000</td>\n",
       "      <td>1.000000</td>\n",
       "    </tr>\n",
       "    <tr>\n",
       "      <td>4</td>\n",
       "      <td>No log</td>\n",
       "      <td>0.472429</td>\n",
       "      <td>1.000000</td>\n",
       "      <td>1.000000</td>\n",
       "      <td>1.000000</td>\n",
       "      <td>1.000000</td>\n",
       "    </tr>\n",
       "  </tbody>\n",
       "</table><p>"
      ],
      "text/plain": [
       "<IPython.core.display.HTML object>"
      ]
     },
     "metadata": {},
     "output_type": "display_data"
    },
    {
     "data": {
      "text/html": [
       "\n",
       "    <div>\n",
       "      \n",
       "      <progress value='2' max='2' style='width:300px; height:20px; vertical-align: middle;'></progress>\n",
       "      [2/2 00:00]\n",
       "    </div>\n",
       "    "
      ],
      "text/plain": [
       "<IPython.core.display.HTML object>"
      ]
     },
     "metadata": {},
     "output_type": "display_data"
    },
    {
     "name": "stderr",
     "output_type": "stream",
     "text": [
      "Map: 100%|██████████| 24/24 [00:00<00:00, 5878.15 examples/s]\n"
     ]
    },
    {
     "data": {
      "text/html": [],
      "text/plain": [
       "<IPython.core.display.HTML object>"
      ]
     },
     "metadata": {},
     "output_type": "display_data"
    }
   ],
   "source": [
    "# Or entirely in memory\n",
    "df_train = \"data/tiny_labeled_data.csv\"\n",
    "df_synth = df\n",
    "\n",
    "filtered_df = generator.filter_with_classifier(\n",
    "    train_data=df_train,\n",
    "    synth_data=df_synth,\n",
    "    classifier_model_name=\"distilbert-base-uncased\"\n",
    ")"
   ]
  },
  {
   "cell_type": "code",
   "execution_count": 6,
   "metadata": {},
   "outputs": [
    {
     "name": "stdout",
     "output_type": "stream",
     "text": [
      "                                                text       category\n",
      "0  To clarify, you could rephrase the original qu...  Clarification\n",
      "1  Can you rephrase or explain that in a differen...  Clarification\n",
      "                                          text    category\n",
      "9   Do you have any fun plans for the weekend?  Small Talk\n",
      "10                How's your day going so far?  Small Talk\n",
      "                                                 text  category\n",
      "19  What is the process by which plants convert su...  Question\n",
      "20               What is the definition of terrorism?  Question\n"
     ]
    }
   ],
   "source": [
    "# printing two rows\n",
    "filtered_df.drop(columns=['label_id', 'predicted'], inplace=True)\n",
    "unique_categories = filtered_df['category'].unique()\n",
    "for category in unique_categories:\n",
    "    print(filtered_df[filtered_df['category'] == category].head(2))"
   ]
  },
  {
   "cell_type": "markdown",
   "metadata": {},
   "source": [
    "# 2. Generate Synthetic Tutor/Student Dialogue \n",
    "this is only for pof and probably not a part of the final pipeline "
   ]
  },
  {
   "cell_type": "code",
   "execution_count": 1,
   "metadata": {},
   "outputs": [
    {
     "name": "stderr",
     "output_type": "stream",
     "text": [
      "/Users/dklaupaa/Library/Caches/pypoetry/virtualenvs/chat-wrap-package-h94m8WQz-py3.12/lib/python3.12/site-packages/tqdm/auto.py:21: TqdmWarning: IProgress not found. Please update jupyter and ipywidgets. See https://ipywidgets.readthedocs.io/en/stable/user_install.html\n",
      "  from .autonotebook import tqdm as notebook_tqdm\n"
     ]
    }
   ],
   "source": [
    "from mypythonpackage import DialogueSimulator\n",
    "from pathlib import Path"
   ]
  },
  {
   "cell_type": "code",
   "execution_count": 2,
   "metadata": {},
   "outputs": [
    {
     "name": "stderr",
     "output_type": "stream",
     "text": [
      "Fetching 9 files: 100%|██████████| 9/9 [00:00<00:00, 79638.68it/s]\n"
     ]
    }
   ],
   "source": [
    "#simulator = DialogueSimulator(backend=\"hf\", model_id=\"gpt2\")\n",
    "simulator = DialogueSimulator(backend=\"mlx\", model_id=\"mlx-community/Qwen2.5-7B-Instruct-1M-4bit\")"
   ]
  },
  {
   "cell_type": "markdown",
   "metadata": {},
   "source": [
    "##### there still needs to be a loop to go over this like 10 times if you wanna mimick having an experiment with several kids "
   ]
  },
  {
   "cell_type": "code",
   "execution_count": 3,
   "metadata": {},
   "outputs": [
    {
     "name": "stdout",
     "output_type": "stream",
     "text": [
      "\n",
      "--- Starting Dialogue Simulation ---\n",
      "\n",
      "[Student]: Hi, I'm a student seeking assistance with my studies.\n"
     ]
    },
    {
     "name": "stderr",
     "output_type": "stream",
     "text": [
      "mx.metal.set_wired_limt is deprecated and will be removed in a future version. Use mx.set_wired_limit instead.\n",
      "mx.metal.get_peak_memory is deprecated and will be removed in a future version. Use mx.get_peak_memory instead.\n",
      "mx.metal.clear_cache is deprecated and will be removed in a future version. Use mx.clear_cache instead.\n"
     ]
    },
    {
     "name": "stdout",
     "output_type": "stream",
     "text": [
      "[Tutor]: Welcome! I'm here to help. Could you share the specific area or assignment you'd like assistance with?\n",
      "\n",
      "Turn 2:\n",
      "[Student]: Sure, here's my work for feedback:\n",
      "\n",
      "\"The importance of time management in student success cannot be overstated. Effective time management is crucial for academic success as it ensures that students have enough time to study, complete assignments, and participate in extra-curricular activities. Good time management also helps to reduce stress and improve overall well-being. A student who manages their time well can balance their responsibilities more effectively and achieve better results in their studies. \"\n",
      "[Tutor]: Your paragraph effectively communicates the importance of time management. To enhance it, consider adding examples of how time management strategies can be implemented. This could make your argument more concrete and relatable. How might you incorporate specific strategies or benefits into your explanation?\n",
      "\n",
      "Turn 3:\n",
      "[Student]: Thank you for the feedback. I was thinking about adding some examples like setting a schedule, prioritizing tasks, and taking regular breaks. Would it be helpful to include these examples in the paragraph?\n",
      "[Tutor]: Absolutely! Adding examples like setting a schedule, prioritizing tasks, and taking breaks will make your points more concrete and actionable. This will help readers visualize how time management can be practiced effectively. Go ahead and integrate these examples!\n",
      "\n",
      "Turn 4:\n",
      "[Student]: I'll revise my paragraph with those examples. Here's the updated version:\n",
      "\n",
      "\"The importance of time management in student success cannot be overstated. Effective time management is crucial for academic success as it ensures that students have enough time to study, complete assignments, and participate in extra-curricular activities. A student who manages their time well can balance their responsibilities more effectively and achieve better results in their studies. Specific strategies include setting a daily or weekly schedule, prioritizing tasks, and taking regular breaks. These practices can help reduce stress and improve overall well-being.\"\n",
      "\n",
      "Would you mind reviewing this revised version and providing more feedback?\n",
      "[Tutor]: Great revision! Your updated paragraph is clearer and more actionable. Consider adding a sentence at the end that reinforces the benefits of these strategies. For example, you could mention how these practices lead to better academic performance or stress reduction. This will strengthen your conclusion.\n",
      "\n",
      "Turn 5:\n",
      "[Student]: Thank you for the suggestion. I'll add that final sentence to my paragraph. Here's the revised version:\n",
      "\n",
      "\"The importance of time management in student success cannot be overstated. Effective time management is crucial for academic success as it ensures that students have enough time to study, complete assignments, and participate in extra-curricular activities. A student who manages their time well can balance their responsibilities more effectively and achieve better results in their studies. Specific strategies include setting a daily or weekly schedule, prioritizing tasks, and taking regular breaks. These practices can help reduce stress and improve overall well-being, ultimately leading to better academic performance.\"\n",
      "\n",
      "Do you think this version captures the message effectively?\n",
      "[Tutor]: Your revised paragraph now effectively communicates the benefits of time management and specific strategies. It’s clear and concise. Consider adding a brief opening sentence that transitions the reader into the importance of time management for student success. This will help flow better. Great job overall!\n",
      "\n",
      "Turn 6:\n",
      "[Student]: Thank you for the suggestion. I’ll add an opening sentence to better introduce the topic. Here’s the new version:\n",
      "\n",
      "\"Time management is essential for student success, impacting various aspects of academic life. Effective time management ensures that students have enough time to study, complete assignments, and participate in extra-curricular activities. Specific strategies include setting a daily or weekly schedule, prioritizing tasks, and taking regular breaks. These practices can help reduce stress and improve overall well-being, ultimately leading to better academic performance.\"\n",
      "\n",
      "Would you please review this final version and let me know if it meets your expectations?\n",
      "[Tutor]: Great job! Your final version clearly introduces the topic and connects the strategies to their benefits. Well done! Consider reflecting on how you could further engage the reader by adding a personal anecdote or a brief statistic about time management to make the paragraph even more impactful.\n",
      "\n",
      "[INFO]: Structured dialogue saved to CSV at output/dialogue.csv\n",
      "[INFO]: Raw log saved to logs/raw\n"
     ]
    }
   ],
   "source": [
    "df = simulator.simulate_dialogue(\n",
    "    mode=\"evaluative_feedback\",\n",
    "    turns=6,\n",
    "    log_dir=Path(\"logs/raw\"),\n",
    "    save_csv_path=Path(\"output/dialogue.csv\")\n",
    ")"
   ]
  },
  {
   "cell_type": "markdown",
   "metadata": {},
   "source": [
    "# 3. Wrap Interactions Directly"
   ]
  },
  {
   "cell_type": "code",
   "execution_count": 7,
   "metadata": {},
   "outputs": [],
   "source": [
    "from mypythonpackage import DialogueLogger"
   ]
  },
  {
   "cell_type": "code",
   "execution_count": 8,
   "metadata": {},
   "outputs": [],
   "source": [
    "prompt = \"You are an AI tutor for a student trying to solve a task. Your instructions are: \" \\\n",
    "\"Answer clearly and consicely, Check for understanding, Always be short and concise.\""
   ]
  },
  {
   "cell_type": "code",
   "execution_count": 9,
   "metadata": {},
   "outputs": [
    {
     "name": "stdout",
     "output_type": "stream",
     "text": [
      "Type 'quit' to exit and save the conversation.\n",
      "Assistant: What specifically do you need help with in English (e.g. grammar, vocabulary, reading comprehension, writing?)?\n",
      "Assistant: What are the sentences you're having trouble understanding? Share them with me, and I'll help clarify their meaning.\n",
      "Assistant: This sentence is saying that a complex (likely a military base or housing complex) has homes for both married and single soldiers, as well as their families.\n",
      "Assistant: Yes, I understand. The sentence is describing a type of housing that caters to both married and single individuals, specifically soldiers and their families.\n",
      "Assistant: Here are a few more examples of complex housing for soldiers and their families:\n",
      "\n",
      "* The base has modular homes for married couples and single airmen.\n",
      "* The military housing complex offers apartments for families with children.\n",
      "* The installation has townhouses and duplexes available for military personnel.\n",
      "\n",
      "These examples illustrate the idea of providing housing options for different types of individuals, such as married couples and single personnel.\n",
      "Assistant: Here are a few more complex sentence examples:\n",
      "\n",
      "1. The company, which specializes in marketing, employs a diverse team of professionals.\n",
      "2. Having studied the subject extensively, she was well-prepared to write a thesis on it.\n",
      "3. By the time I arrived, they had already finished their project and were preparing for the next one.\n",
      "4. Although it was raining, I still decided to go for a walk in the park.\n",
      "5. Since the company went public, its stock price has fluctuated significantly.\n",
      "\n",
      "These sentences are more complex because they:\n",
      "\n",
      "* Have multiple clauses (e.g. \"which specializes in marketing\" is a dependent clause)\n",
      "* Use subordinate conjunctions (e.g. \"although\")\n",
      "* Have multiple main clauses (e.g. \"I still decided to go for a walk in the park\")\n",
      "* Use relative clauses (e.g. \"which specializes in marketing\")\n",
      "\n",
      "Let me know if you'd like more examples!\n",
      "Conversation saved to data/logged_dialogue_data/conversation_test_user2.csv\n"
     ]
    }
   ],
   "source": [
    "logger = DialogueLogger(\n",
    "    api_url=\"http://127.0.0.1:1234/v1/chat/completions\",\n",
    "    model_name=\"llama-3.2-3b-instruct\",\n",
    "    temperature=0.7,\n",
    "    context=prompt\n",
    ")\n",
    "\n",
    "\n",
    "df = logger.start_dialogue(participant_id=\"test_user2\", output_path=\"data/logged_dialogue_data/\")\n"
   ]
  },
  {
   "cell_type": "code",
   "execution_count": 10,
   "metadata": {},
   "outputs": [
    {
     "name": "stdout",
     "output_type": "stream",
     "text": [
      "   turn                                           user_msg  \\\n",
      "0     1                     hello i need help with english   \n",
      "1     2                i need to understand some sentences   \n",
      "2     3  The complex houses married and single soldiers...   \n",
      "3     4                                  do you understand   \n",
      "4     5                        do you know other examples?   \n",
      "5     6  not housing but examples of complecated sentences   \n",
      "\n",
      "                                           tutor_msg  \n",
      "0  What specifically do you need help with in Eng...  \n",
      "1  What are the sentences you're having trouble u...  \n",
      "2  This sentence is saying that a complex (likely...  \n",
      "3  Yes, I understand. The sentence is describing ...  \n",
      "4  Here are a few more examples of complex housin...  \n",
      "5  Here are a few more complex sentence examples:...  \n"
     ]
    }
   ],
   "source": [
    "print(df)"
   ]
  },
  {
   "cell_type": "markdown",
   "metadata": {},
   "source": [
    "# 4. Classification Time \n",
    "Now the dialogues are to be classified by a classifier trained on a relevant framework "
   ]
  },
  {
   "cell_type": "code",
   "execution_count": 2,
   "metadata": {},
   "outputs": [
    {
     "name": "stderr",
     "output_type": "stream",
     "text": [
      "/Users/dklaupaa/Library/Caches/pypoetry/virtualenvs/chat-wrap-package-h94m8WQz-py3.12/lib/python3.12/site-packages/tqdm/auto.py:21: TqdmWarning: IProgress not found. Please update jupyter and ipywidgets. See https://ipywidgets.readthedocs.io/en/stable/user_install.html\n",
      "  from .autonotebook import tqdm as notebook_tqdm\n"
     ]
    }
   ],
   "source": [
    "from mypythonpackage import PredictLabels"
   ]
  },
  {
   "cell_type": "code",
   "execution_count": 3,
   "metadata": {},
   "outputs": [
    {
     "name": "stdout",
     "output_type": "stream",
     "text": [
      "Max token: 44 Average token: 15.587025316455696\n"
     ]
    },
    {
     "name": "stderr",
     "output_type": "stream",
     "text": [
      "Map:   0%|          | 0/632 [00:00<?, ? examples/s]huggingface/tokenizers: The current process just got forked, after parallelism has already been used. Disabling parallelism to avoid deadlocks...\n",
      "To disable this warning, you can either:\n",
      "\t- Avoid using `tokenizers` before the fork if possible\n",
      "\t- Explicitly set the environment variable TOKENIZERS_PARALLELISM=(true | false)\n",
      "Map: 100%|██████████| 632/632 [00:00<00:00, 37655.02 examples/s]\n",
      "Map: 100%|██████████| 158/158 [00:00<00:00, 31536.12 examples/s]\n",
      "Some weights of DistilBertForSequenceClassification were not initialized from the model checkpoint at distilbert-base-uncased and are newly initialized: ['classifier.bias', 'classifier.weight', 'pre_classifier.bias', 'pre_classifier.weight']\n",
      "You should probably TRAIN this model on a down-stream task to be able to use it for predictions and inference.\n",
      "/Users/dklaupaa/Library/Caches/pypoetry/virtualenvs/chat-wrap-package-h94m8WQz-py3.12/lib/python3.12/site-packages/transformers/training_args.py:1594: FutureWarning: `evaluation_strategy` is deprecated and will be removed in version 4.46 of 🤗 Transformers. Use `eval_strategy` instead\n",
      "  warnings.warn(\n",
      "/Users/dklaupaa/Library/Caches/pypoetry/virtualenvs/chat-wrap-package-h94m8WQz-py3.12/lib/python3.12/site-packages/transformers/training_args.py:2262: UserWarning: `use_mps_device` is deprecated and will be removed in version 5.0 of 🤗 Transformers. `mps` device will be used by default if available similar to the way `cuda` device is used.Therefore, no action from user is required. \n",
      "  warnings.warn(\n"
     ]
    },
    {
     "data": {
      "text/html": [
       "\n",
       "    <div>\n",
       "      \n",
       "      <progress value='316' max='316' style='width:300px; height:20px; vertical-align: middle;'></progress>\n",
       "      [316/316 00:32, Epoch 4/4]\n",
       "    </div>\n",
       "    <table border=\"1\" class=\"dataframe\">\n",
       "  <thead>\n",
       " <tr style=\"text-align: left;\">\n",
       "      <th>Epoch</th>\n",
       "      <th>Training Loss</th>\n",
       "      <th>Validation Loss</th>\n",
       "      <th>Accuracy</th>\n",
       "      <th>Precision</th>\n",
       "      <th>Recall</th>\n",
       "      <th>F1</th>\n",
       "    </tr>\n",
       "  </thead>\n",
       "  <tbody>\n",
       "    <tr>\n",
       "      <td>1</td>\n",
       "      <td>No log</td>\n",
       "      <td>0.004372</td>\n",
       "      <td>1.000000</td>\n",
       "      <td>1.000000</td>\n",
       "      <td>1.000000</td>\n",
       "      <td>1.000000</td>\n",
       "    </tr>\n",
       "    <tr>\n",
       "      <td>2</td>\n",
       "      <td>No log</td>\n",
       "      <td>0.026333</td>\n",
       "      <td>0.993671</td>\n",
       "      <td>0.993914</td>\n",
       "      <td>0.993671</td>\n",
       "      <td>0.993702</td>\n",
       "    </tr>\n",
       "    <tr>\n",
       "      <td>3</td>\n",
       "      <td>No log</td>\n",
       "      <td>0.026607</td>\n",
       "      <td>0.993671</td>\n",
       "      <td>0.993914</td>\n",
       "      <td>0.993671</td>\n",
       "      <td>0.993702</td>\n",
       "    </tr>\n",
       "    <tr>\n",
       "      <td>4</td>\n",
       "      <td>No log</td>\n",
       "      <td>0.026102</td>\n",
       "      <td>0.993671</td>\n",
       "      <td>0.993914</td>\n",
       "      <td>0.993671</td>\n",
       "      <td>0.993702</td>\n",
       "    </tr>\n",
       "  </tbody>\n",
       "</table><p>"
      ],
      "text/plain": [
       "<IPython.core.display.HTML object>"
      ]
     },
     "metadata": {},
     "output_type": "display_data"
    },
    {
     "name": "stdout",
     "output_type": "stream",
     "text": [
      "Predicted data saved to data/final_outputs/first_annotated.csv\n"
     ]
    }
   ],
   "source": [
    "# loading the model and data for prediction\n",
    "predictor = PredictLabels(model_name=\"distilbert-base-uncased\")\n",
    "\n",
    "annotaded_df = predictor.run_pipeline(\n",
    "    train_data=\"data/generated_tuning_data/PACKAKGE_QUALDATA.csv\", \n",
    "    new_data=\"data/logged_dialogue_data/conversation_test_user2.csv\", \n",
    "    # column names:\n",
    "    text_column=\"text\",\n",
    "    label_column=\"category\", \n",
    "    new_text_column=\"user_msg\", # the text to be predicted\n",
    "    prediction_save_path=\"data/final_outputs/first_annotated.csv\"\n",
    ")"
   ]
  },
  {
   "cell_type": "code",
   "execution_count": 4,
   "metadata": {},
   "outputs": [
    {
     "name": "stdout",
     "output_type": "stream",
     "text": [
      "   turn                                           user_msg  \\\n",
      "0     1                     hello i need help with english   \n",
      "1     2                i need to understand some sentences   \n",
      "2     3  The complex houses married and single soldiers...   \n",
      "3     4                                  do you understand   \n",
      "4     5                        do you know other examples?   \n",
      "\n",
      "                                           tutor_msg predicted_labels  \n",
      "0  What specifically do you need help with in Eng...       Small Talk  \n",
      "1  What are the sentences you're having trouble u...    Clarification  \n",
      "2  This sentence is saying that a complex (likely...       Small Talk  \n",
      "3  Yes, I understand. The sentence is describing ...    Clarification  \n",
      "4  Here are a few more examples of complex housin...    Clarification  \n"
     ]
    }
   ],
   "source": [
    "print(annotaded_df.head())"
   ]
  },
  {
   "cell_type": "markdown",
   "metadata": {},
   "source": [
    "okay laura conclusion for now the quality is terrible but the pipeline is working !!!!!!!! now data + framework just need to be fixed hmmm to actually be useful "
   ]
  }
 ],
 "metadata": {
  "kernelspec": {
   "display_name": "chat-wrap-package-h94m8WQz-py3.12",
   "language": "python",
   "name": "python3"
  },
  "language_info": {
   "codemirror_mode": {
    "name": "ipython",
    "version": 3
   },
   "file_extension": ".py",
   "mimetype": "text/x-python",
   "name": "python",
   "nbconvert_exporter": "python",
   "pygments_lexer": "ipython3",
   "version": "3.12.2"
  }
 },
 "nbformat": 4,
 "nbformat_minor": 2
}
